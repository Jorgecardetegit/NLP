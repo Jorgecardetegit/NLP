{
  "nbformat": 4,
  "nbformat_minor": 0,
  "metadata": {
    "colab": {
      "provenance": [],
      "authorship_tag": "ABX9TyPCqhdJ1lpcISOBf4ab0nwr",
      "include_colab_link": true
    },
    "kernelspec": {
      "name": "python3",
      "display_name": "Python 3"
    },
    "language_info": {
      "name": "python"
    }
  },
  "cells": [
    {
      "cell_type": "markdown",
      "metadata": {
        "id": "view-in-github",
        "colab_type": "text"
      },
      "source": [
        "<a href=\"https://colab.research.google.com/github/Jorgecardetegit/NLP/blob/main/RNN_vs_LSTM_vs_GRU_vs_CNN_(1D)_vs_Transformer.ipynb\" target=\"_parent\"><img src=\"https://colab.research.google.com/assets/colab-badge.svg\" alt=\"Open In Colab\"/></a>"
      ]
    },
    {
      "cell_type": "markdown",
      "source": [
        "# **RNN vs LSTM vs GRU vs CNN (1D) vs Transformer**"
      ],
      "metadata": {
        "id": "16fi0Q03yZXJ"
      }
    },
    {
      "cell_type": "markdown",
      "source": [
        "# 1. Importing libraries and installing dependencies"
      ],
      "metadata": {
        "id": "PyGHF0NfPpGr"
      }
    },
    {
      "cell_type": "code",
      "execution_count": null,
      "metadata": {
        "id": "r8-zljw5PnBl"
      },
      "outputs": [],
      "source": [
        "import tensorflow as tf\n",
        "import numpy as np\n",
        "import matplotlib.pyplot as plt\n",
        "import seaborn as sns\n",
        "\n",
        "import cv2\n",
        "from PIL import Image\n",
        "\n",
        "from numpy import random"
      ]
    },
    {
      "cell_type": "code",
      "source": [
        "import sklearn\n",
        "from sklearn.metrics import confusion_matrix, roc_curve"
      ],
      "metadata": {
        "id": "9fmN0-wpQD9q"
      },
      "execution_count": null,
      "outputs": []
    },
    {
      "cell_type": "code",
      "source": [
        "import tensorflow_datasets as tfds\n",
        "import tensorflow_probability as tfp\n",
        "\n",
        "from tensorflow.keras.models import Model\n",
        "from tensorflow.keras.layers import Layer\n",
        "from tensorflow.keras.layers import Dense,Flatten,SimpleRNN,InputLayer,Conv1D,Bidirectional,GRU,LSTM,BatchNormalization,Dropout,Input, Embedding,TextVectorization\n",
        "from tensorflow.keras.losses import BinaryCrossentropy,CategoricalCrossentropy, SparseCategoricalCrossentropy\n",
        "from tensorflow.keras.metrics import Accuracy,TopKCategoricalAccuracy, CategoricalAccuracy, SparseCategoricalAccuracy\n",
        "from tensorflow.keras.optimizers import Adam\n",
        "\n",
        "from tensorboard.plugins import projector"
      ],
      "metadata": {
        "id": "nk1xNP9XP2Er"
      },
      "execution_count": null,
      "outputs": []
    },
    {
      "cell_type": "code",
      "source": [
        "import datetime\n",
        "import pathlib\n",
        "import io\n",
        "import os\n",
        "import re\n",
        "import string\n",
        "import time\n",
        "import gensim.downloader as api"
      ],
      "metadata": {
        "id": "wP4hPMz7P2G7"
      },
      "execution_count": null,
      "outputs": []
    },
    {
      "cell_type": "code",
      "source": [
        "from google.colab import drive\n",
        "from google.colab import files"
      ],
      "metadata": {
        "id": "zbFYeBR7P2JO"
      },
      "execution_count": null,
      "outputs": []
    },
    {
      "cell_type": "markdown",
      "source": [
        "# 2. Load dataset"
      ],
      "metadata": {
        "id": "L7UmBWHFQX0U"
      }
    },
    {
      "cell_type": "code",
      "source": [
        "train_ds,val_ds,test_ds=tfds.load('imdb_reviews', split=['train', 'test[:50%]', 'test[50%:]'],as_supervised=True)"
      ],
      "metadata": {
        "id": "Fa39h4tvQXTR"
      },
      "execution_count": null,
      "outputs": []
    },
    {
      "cell_type": "markdown",
      "source": [
        "# 3. Basic EDA"
      ],
      "metadata": {
        "id": "G_cuMiKNQwDp"
      }
    },
    {
      "cell_type": "code",
      "source": [
        "for review,label in val_ds.take(1):\n",
        "  print(review)\n",
        "  print(label)"
      ],
      "metadata": {
        "colab": {
          "base_uri": "https://localhost:8080/"
        },
        "id": "HvRaMpW-P2K_",
        "outputId": "993ddaf5-12a9-4e82-af62-b1bd483a99e2"
      },
      "execution_count": null,
      "outputs": [
        {
          "output_type": "stream",
          "name": "stdout",
          "text": [
            "tf.Tensor(b\"There are films that make careers. For George Romero, it was NIGHT OF THE LIVING DEAD; for Kevin Smith, CLERKS; for Robert Rodriguez, EL MARIACHI. Add to that list Onur Tukel's absolutely amazing DING-A-LING-LESS. Flawless film-making, and as assured and as professional as any of the aforementioned movies. I haven't laughed this hard since I saw THE FULL MONTY. (And, even then, I don't think I laughed quite this hard... So to speak.) Tukel's talent is considerable: DING-A-LING-LESS is so chock full of double entendres that one would have to sit down with a copy of this script and do a line-by-line examination of it to fully appreciate the, uh, breadth and width of it. Every shot is beautifully composed (a clear sign of a sure-handed director), and the performances all around are solid (there's none of the over-the-top scenery chewing one might've expected from a film like this). DING-A-LING-LESS is a film whose time has come.\", shape=(), dtype=string)\n",
            "tf.Tensor(1, shape=(), dtype=int64)\n"
          ]
        }
      ]
    },
    {
      "cell_type": "markdown",
      "source": [
        "# 4. Preprocessing"
      ],
      "metadata": {
        "id": "jy4CyC8HQ76_"
      }
    },
    {
      "cell_type": "code",
      "source": [
        "VOCAB_SIZE=10000\n",
        "SEQUENCE_LENGTH=250\n",
        "EMBEDDING_DIM=300"
      ],
      "metadata": {
        "id": "vNeqjIUDRXY6"
      },
      "execution_count": null,
      "outputs": []
    },
    {
      "cell_type": "markdown",
      "source": [
        "### 4.1 Standardization"
      ],
      "metadata": {
        "id": "qBg2DLWWSy7g"
      }
    },
    {
      "cell_type": "code",
      "source": [
        "def standardization(input_data):\n",
        "\n",
        "    lowercase=tf.strings.lower(input_data)\n",
        "    no_tag=tf.strings.regex_replace(lowercase,\"<[^>]+>\",\"\")\n",
        "    output=tf.strings.regex_replace(no_tag,\"[%s]\"%re.escape(string.punctuation),\"\")\n",
        "\n",
        "    return output"
      ],
      "metadata": {
        "id": "GALMiyvmP2NV"
      },
      "execution_count": null,
      "outputs": []
    },
    {
      "cell_type": "markdown",
      "source": [
        "#### **Standardization Example:**"
      ],
      "metadata": {
        "id": "MAKvmKsyRJAR"
      }
    },
    {
      "cell_type": "code",
      "source": [
        "standardization(tf.constant(\"In the movie?, man called Tévèz, went to a friend’s pl**ce and they had a tensed discussion\"))"
      ],
      "metadata": {
        "colab": {
          "base_uri": "https://localhost:8080/"
        },
        "id": "kB7OCdt7P2QI",
        "outputId": "b80e9e4c-26dc-4319-e5ff-7bcca2b7360a"
      },
      "execution_count": null,
      "outputs": [
        {
          "output_type": "execute_result",
          "data": {
            "text/plain": [
              "<tf.Tensor: shape=(), dtype=string, numpy=b'in the movie man called t\\xc3\\xa9v\\xc3\\xa8z went to a friend\\xe2\\x80\\x99s plce and they had a tensed discussion'>"
            ]
          },
          "metadata": {},
          "execution_count": 18
        }
      ]
    },
    {
      "cell_type": "markdown",
      "source": [
        "### 4.2 Vectorization"
      ],
      "metadata": {
        "id": "Gf_V849ZS17Z"
      }
    },
    {
      "cell_type": "code",
      "source": [
        "vectorize_layer=TextVectorization(\n",
        "    standardize=standardization,\n",
        "    max_tokens=VOCAB_SIZE,\n",
        "    output_mode='int',\n",
        "    output_sequence_length=SEQUENCE_LENGTH)\n",
        "\n",
        "def vectorizer(review,label):\n",
        "    return vectorize_layer(review),label"
      ],
      "metadata": {
        "id": "dOEm17j2Sf07"
      },
      "execution_count": null,
      "outputs": []
    },
    {
      "cell_type": "code",
      "source": [
        "training_data=train_ds.map(lambda x,y:x)\n",
        "vectorize_layer.adapt(training_data)"
      ],
      "metadata": {
        "id": "m-O43rgaRXbL"
      },
      "execution_count": null,
      "outputs": []
    },
    {
      "cell_type": "code",
      "source": [
        "train_dataset=train_ds.map(vectorizer)\n",
        "val_dataset=val_ds.map(vectorizer)"
      ],
      "metadata": {
        "id": "PlSw9TGHRXdd"
      },
      "execution_count": null,
      "outputs": []
    },
    {
      "cell_type": "markdown",
      "source": [
        "### 4.3 Batching and Prefetching"
      ],
      "metadata": {
        "id": "Mne9oahlTuno"
      }
    },
    {
      "cell_type": "code",
      "source": [
        "BATCH_SIZE = 64\n",
        "\n",
        "train_dataset=train_dataset.batch(BATCH_SIZE).prefetch(buffer_size=tf.data.AUTOTUNE)\n",
        "val_dataset=val_dataset.batch(BATCH_SIZE).prefetch(buffer_size=tf.data.AUTOTUNE)"
      ],
      "metadata": {
        "id": "7FOAmNTcTxOb"
      },
      "execution_count": null,
      "outputs": []
    },
    {
      "cell_type": "markdown",
      "source": [
        "# 5. Models"
      ],
      "metadata": {
        "id": "RpdM7MEBU4a0"
      }
    },
    {
      "cell_type": "code",
      "source": [
        "class train_model():\n",
        "  loss = tf.keras.losses.BinaryCrossentropy()\n",
        "  optimizer = tf.keras.optimizers.Adam(1e-4)\n",
        "  metrics = \"accuracy\"\n",
        "\n",
        "  def __init__(self):\n",
        "\n",
        "    self.loss = loss\n",
        "    self.optimizer = optimizer\n",
        "    self.metrics = metrics\n",
        "\n",
        "    self.epochs = 10\n",
        "\n",
        "  def compiler(self, model):\n",
        "    model.compile(loss = self.loss, optimizer = self.optimizer, metrics = [self.metric])\n",
        "\n",
        "  def history(self, model, train_dataset, val_dataset):\n",
        "    model.fit(train_dataset, validation_data = val_dataset, epochs = self.epochs)\n",
        "\n",
        "  def save_weights(self,model):\n",
        "    model.save()\n",
        "\n",
        "  def eval_loss_and_accuracy(self, history)\n",
        "\n",
        "    plt.figure(figsize=(9, 4))  # Adjust the figure size for better visibility\n",
        "\n",
        "    plt.subplot(1, 2, 1)  # 1 row, 2 columns, 1st plot\n",
        "    plt.plot(history.history['loss'])\n",
        "    plt.plot(history.history['val_loss'])\n",
        "    plt.title('RNN_loss')\n",
        "    plt.ylabel('loss')\n",
        "    plt.xlabel('epoch')\n",
        "    plt.legend(['train', 'val'], loc='upper left')\n",
        "\n",
        "    plt.subplot(1, 2, 2)  # 1 row, 2 columns, 2nd plot\n",
        "    plt.plot(history.history['accuracy'])\n",
        "    plt.plot(history.history['val_accuracy'])\n",
        "    plt.title('RNN_accuracy')\n",
        "    plt.ylabel('accuracy')\n",
        "    plt.xlabel('epoch')\n",
        "\n",
        "    plt.tight_layout()\n",
        "    plt.show()\n",
        "\n",
        "  def test(self, test_dataset):\n",
        "\n",
        "    test_dataset=test_ds.map(vectorizer)\n",
        "    test_dataset=test_dataset.batch(BATCH_SIZE)\n",
        "    return model.evaluate(train_dataset)\n"
      ],
      "metadata": {
        "id": "pJ0xyMpBZkBT"
      },
      "execution_count": null,
      "outputs": []
    },
    {
      "cell_type": "markdown",
      "source": [
        "## 5.1 RNN"
      ],
      "metadata": {
        "id": "vNrNrTuWU8Qt"
      }
    },
    {
      "cell_type": "code",
      "source": [
        "EMBEDDING_DIM=64\n",
        "model=tf.keras.models.Sequential([\n",
        "    Input(shape=(SEQUENCE_LENGTH,)),\n",
        "    Embedding(VOCAB_SIZE,EMBEDDING_DIM),\n",
        "    SimpleRNN(32),\n",
        "    Dense(1,activation='sigmoid'),\n",
        "])\n",
        "model.summary()"
      ],
      "metadata": {
        "colab": {
          "base_uri": "https://localhost:8080/"
        },
        "id": "W806xcOYT9U5",
        "outputId": "0f270cdc-6bda-4428-fe2f-7c53f5e5919c"
      },
      "execution_count": null,
      "outputs": [
        {
          "output_type": "stream",
          "name": "stdout",
          "text": [
            "Model: \"sequential\"\n",
            "_________________________________________________________________\n",
            " Layer (type)                Output Shape              Param #   \n",
            "=================================================================\n",
            " embedding (Embedding)       (None, 250, 64)           640000    \n",
            "                                                                 \n",
            " simple_rnn (SimpleRNN)      (None, 32)                3104      \n",
            "                                                                 \n",
            " dense (Dense)               (None, 1)                 33        \n",
            "                                                                 \n",
            "=================================================================\n",
            "Total params: 643137 (2.45 MB)\n",
            "Trainable params: 643137 (2.45 MB)\n",
            "Non-trainable params: 0 (0.00 Byte)\n",
            "_________________________________________________________________\n"
          ]
        }
      ]
    },
    {
      "cell_type": "code",
      "source": [
        "model.compile(loss=tf.keras.losses.BinaryCrossentropy(),\n",
        "              optimizer=tf.keras.optimizers.Adam(1e-4),\n",
        "              metrics=['accuracy'])"
      ],
      "metadata": {
        "id": "TUxCDOMRVBRJ"
      },
      "execution_count": null,
      "outputs": []
    },
    {
      "cell_type": "code",
      "source": [
        "history=model.fit(\n",
        "    train_dataset,\n",
        "    validation_data=val_dataset,\n",
        "    epochs=10,)"
      ],
      "metadata": {
        "colab": {
          "base_uri": "https://localhost:8080/"
        },
        "id": "eyF7FofAVBTb",
        "outputId": "910ef816-a982-465a-e7b9-1f963cb694b8"
      },
      "execution_count": null,
      "outputs": [
        {
          "output_type": "stream",
          "name": "stdout",
          "text": [
            "Epoch 1/10\n",
            "391/391 [==============================] - 27s 66ms/step - loss: 0.6948 - accuracy: 0.4997 - val_loss: 0.6941 - val_accuracy: 0.4948\n",
            "Epoch 2/10\n",
            "391/391 [==============================] - 25s 65ms/step - loss: 0.6842 - accuracy: 0.5494 - val_loss: 0.6951 - val_accuracy: 0.5018\n",
            "Epoch 3/10\n",
            "391/391 [==============================] - 27s 70ms/step - loss: 0.6587 - accuracy: 0.6232 - val_loss: 0.7003 - val_accuracy: 0.5061\n",
            "Epoch 4/10\n",
            "391/391 [==============================] - 25s 65ms/step - loss: 0.5967 - accuracy: 0.7228 - val_loss: 0.7089 - val_accuracy: 0.5218\n",
            "Epoch 5/10\n",
            "391/391 [==============================] - 26s 67ms/step - loss: 0.5126 - accuracy: 0.7958 - val_loss: 0.7218 - val_accuracy: 0.5305\n",
            "Epoch 6/10\n",
            "391/391 [==============================] - 25s 63ms/step - loss: 0.4383 - accuracy: 0.8402 - val_loss: 0.7416 - val_accuracy: 0.5488\n",
            "Epoch 7/10\n",
            "391/391 [==============================] - 24s 61ms/step - loss: 0.3891 - accuracy: 0.8648 - val_loss: 0.7656 - val_accuracy: 0.5622\n",
            "Epoch 8/10\n",
            "391/391 [==============================] - 24s 62ms/step - loss: 0.3479 - accuracy: 0.8827 - val_loss: 0.7923 - val_accuracy: 0.5642\n",
            "Epoch 9/10\n",
            "391/391 [==============================] - 24s 61ms/step - loss: 0.3206 - accuracy: 0.8943 - val_loss: 0.8065 - val_accuracy: 0.5596\n",
            "Epoch 10/10\n",
            "391/391 [==============================] - 24s 61ms/step - loss: 0.2962 - accuracy: 0.9038 - val_loss: 0.8404 - val_accuracy: 0.5547\n"
          ]
        }
      ]
    },
    {
      "cell_type": "markdown",
      "source": [
        "## 5.1.1 Evaluation"
      ],
      "metadata": {
        "id": "UCbZEL8EXTrT"
      }
    },
    {
      "cell_type": "code",
      "source": [
        "# Set up the figure and axis\n",
        "plt.figure(figsize=(9, 4))  # Adjust the figure size for better visibility\n",
        "\n",
        "# First subplot for loss\n",
        "plt.subplot(1, 2, 1)  # 1 row, 2 columns, 1st plot\n",
        "plt.plot(history.history['loss'])\n",
        "plt.plot(history.history['val_loss'])\n",
        "plt.title('RNN_loss')\n",
        "plt.ylabel('loss')\n",
        "plt.xlabel('epoch')\n",
        "plt.legend(['train', 'val'], loc='upper left')\n",
        "\n",
        "# Second subplot for accuracy\n",
        "plt.subplot(1, 2, 2)  # 1 row, 2 columns, 2nd plot\n",
        "plt.plot(history.history['accuracy'])\n",
        "plt.plot(history.history['val_accuracy'])\n",
        "plt.title('RNN_accuracy')\n",
        "plt.ylabel('accuracy')\n",
        "plt.xlabel('epoch')\n",
        "\n",
        "# Display both plots\n",
        "plt.tight_layout()  # Adjust the layout for better spacing\n",
        "plt.show()"
      ],
      "metadata": {
        "colab": {
          "base_uri": "https://localhost:8080/",
          "height": 407
        },
        "id": "pMxS60SLVBVs",
        "outputId": "e5314e82-8dcc-4b2b-a60a-97292c13054d"
      },
      "execution_count": null,
      "outputs": [
        {
          "output_type": "display_data",
          "data": {
            "text/plain": [
              "<Figure size 900x400 with 2 Axes>"
            ],
            "image/png": "[encoded data removed]"
          },
          "metadata": {}
        }
      ]
    },
    {
      "cell_type": "code",
      "source": [
        "test_dataset=test_ds.map(vectorizer)\n",
        "test_dataset=test_dataset.batch(BATCH_SIZE)\n",
        "print(model.evaluate(train_dataset))"
      ],
      "metadata": {
        "colab": {
          "base_uri": "https://localhost:8080/"
        },
        "id": "W9y3RQhFVBbM",
        "outputId": "a460ff3f-27eb-425c-b99a-25083fce744a"
      },
      "execution_count": null,
      "outputs": [
        {
          "output_type": "stream",
          "name": "stdout",
          "text": [
            "391/391 [==============================] - 8s 21ms/step - loss: 0.3338 - accuracy: 0.8793\n",
            "[0.33378535509109497, 0.8793200254440308]\n"
          ]
        }
      ]
    },
    {
      "cell_type": "markdown",
      "source": [
        "### 5.2 LSTM"
      ],
      "metadata": {
        "id": "Oj0zxGhmYljc"
      }
    },
    {
      "cell_type": "code",
      "source": [
        "EMBEDDING_DIM=64\n",
        "model=tf.keras.models.Sequential([\n",
        "    Input(shape=(SEQUENCE_LENGTH,)),\n",
        "    Embedding(VOCAB_SIZE,EMBEDDING_DIM),\n",
        "\n",
        "    Bidirectional(LSTM(64,return_sequences=True)),\n",
        "    Bidirectional(LSTM(32)),\n",
        "\n",
        "    Dense(64, activation='relu'),\n",
        "    Dropout(0.5),\n",
        "    Dense(1,activation='sigmoid'),\n",
        "])\n",
        "model.summary()"
      ],
      "metadata": {
        "colab": {
          "base_uri": "https://localhost:8080/"
        },
        "id": "MMGPotoTVBcd",
        "outputId": "71165c1b-7daf-4a2e-985a-74e2f35ea2eb"
      },
      "execution_count": null,
      "outputs": [
        {
          "output_type": "stream",
          "name": "stdout",
          "text": [
            "Model: \"sequential_1\"\n",
            "_________________________________________________________________\n",
            " Layer (type)                Output Shape              Param #   \n",
            "=================================================================\n",
            " embedding_1 (Embedding)     (None, 250, 64)           640000    \n",
            "                                                                 \n",
            " bidirectional (Bidirection  (None, 250, 128)          66048     \n",
            " al)                                                             \n",
            "                                                                 \n",
            " bidirectional_1 (Bidirecti  (None, 64)                41216     \n",
            " onal)                                                           \n",
            "                                                                 \n",
            " dense_1 (Dense)             (None, 64)                4160      \n",
            "                                                                 \n",
            " dropout (Dropout)           (None, 64)                0         \n",
            "                                                                 \n",
            " dense_2 (Dense)             (None, 1)                 65        \n",
            "                                                                 \n",
            "=================================================================\n",
            "Total params: 751489 (2.87 MB)\n",
            "Trainable params: 751489 (2.87 MB)\n",
            "Non-trainable params: 0 (0.00 Byte)\n",
            "_________________________________________________________________\n"
          ]
        }
      ]
    },
    {
      "cell_type": "code",
      "source": [
        "model.compile(loss=tf.keras.losses.BinaryCrossentropy(),\n",
        "              optimizer=tf.keras.optimizers.Adam(1e-4),\n",
        "              metrics=['accuracy'])"
      ],
      "metadata": {
        "id": "MFgEIK7QYzir"
      },
      "execution_count": null,
      "outputs": []
    },
    {
      "cell_type": "code",
      "source": [
        "history=model.fit(\n",
        "    train_dataset,\n",
        "    validation_data=val_dataset,\n",
        "    epochs=10,)"
      ],
      "metadata": {
        "colab": {
          "base_uri": "https://localhost:8080/"
        },
        "id": "k6217BXwYzlV",
        "outputId": "3b72056d-de3a-4572-a843-27859e64c842"
      },
      "execution_count": null,
      "outputs": [
        {
          "output_type": "stream",
          "name": "stdout",
          "text": [
            "Epoch 1/10\n",
            "391/391 [==============================] - 290s 720ms/step - loss: 0.6383 - accuracy: 0.6042 - val_loss: 0.4207 - val_accuracy: 0.8171\n",
            "Epoch 2/10\n",
            "391/391 [==============================] - 273s 698ms/step - loss: 0.3454 - accuracy: 0.8598 - val_loss: 0.3356 - val_accuracy: 0.8604\n",
            "Epoch 3/10\n",
            "391/391 [==============================] - 236s 603ms/step - loss: 0.2547 - accuracy: 0.9067 - val_loss: 0.3518 - val_accuracy: 0.8627\n",
            "Epoch 4/10\n",
            "391/391 [==============================] - 235s 601ms/step - loss: 0.2112 - accuracy: 0.9282 - val_loss: 0.4009 - val_accuracy: 0.8526\n",
            "Epoch 5/10\n",
            "391/391 [==============================] - 202s 516ms/step - loss: 0.1897 - accuracy: 0.9365 - val_loss: 0.3822 - val_accuracy: 0.8618\n",
            "Epoch 6/10\n",
            "391/391 [==============================] - 193s 494ms/step - loss: 0.1618 - accuracy: 0.9465 - val_loss: 0.4222 - val_accuracy: 0.8590\n",
            "Epoch 7/10\n",
            "391/391 [==============================] - 198s 507ms/step - loss: 0.1351 - accuracy: 0.9595 - val_loss: 0.5081 - val_accuracy: 0.8449\n",
            "Epoch 8/10\n",
            "391/391 [==============================] - 187s 478ms/step - loss: 0.1192 - accuracy: 0.9648 - val_loss: 0.5738 - val_accuracy: 0.8422\n",
            "Epoch 9/10\n",
            "391/391 [==============================] - 209s 535ms/step - loss: 0.1128 - accuracy: 0.9648 - val_loss: 0.5228 - val_accuracy: 0.8466\n",
            "Epoch 10/10\n",
            "391/391 [==============================] - 190s 487ms/step - loss: 0.1172 - accuracy: 0.9623 - val_loss: 0.5596 - val_accuracy: 0.8460\n"
          ]
        }
      ]
    },
    {
      "cell_type": "markdown",
      "source": [
        "### 5.2.1 Evaluation"
      ],
      "metadata": {
        "id": "t_bf-I9zZJAS"
      }
    },
    {
      "cell_type": "code",
      "source": [
        "# Set up the figure and axis\n",
        "plt.figure(figsize=(9, 4))  # Adjust the figure size for better visibility\n",
        "\n",
        "# First subplot for loss\n",
        "plt.subplot(1, 2, 1)  # 1 row, 2 columns, 1st plot\n",
        "plt.plot(history.history['loss'])\n",
        "plt.plot(history.history['val_loss'])\n",
        "plt.title('RNN_loss')\n",
        "plt.ylabel('loss')\n",
        "plt.xlabel('epoch')\n",
        "plt.legend(['train', 'val'], loc='upper left')\n",
        "\n",
        "# Second subplot for accuracy\n",
        "plt.subplot(1, 2, 2)  # 1 row, 2 columns, 2nd plot\n",
        "plt.plot(history.history['accuracy'])\n",
        "plt.plot(history.history['val_accuracy'])\n",
        "plt.title('RNN_accuracy')\n",
        "plt.ylabel('accuracy')\n",
        "plt.xlabel('epoch')\n",
        "\n",
        "# Display both plots\n",
        "plt.tight_layout()  # Adjust the layout for better spacing\n",
        "plt.show()"
      ],
      "metadata": {
        "id": "GILEKzf5Yznf"
      },
      "execution_count": null,
      "outputs": []
    },
    {
      "cell_type": "code",
      "source": [
        "test_dataset=test_ds.map(vectorizer)\n",
        "test_dataset=test_dataset.batch(BATCH_SIZE)\n",
        "print(model.evaluate(test_dataset))"
      ],
      "metadata": {
        "id": "6iHt8UyxYzpf"
      },
      "execution_count": null,
      "outputs": []
    },
    {
      "cell_type": "markdown",
      "source": [
        "### 5.3 GRU (MultiLayer and Bidirectional)"
      ],
      "metadata": {
        "id": "wGvtWHHbZSXx"
      }
    },
    {
      "cell_type": "code",
      "source": [
        "EMBEDDING_DIM=64\n",
        "model=tf.keras.models.Sequential([\n",
        "    Input(shape=(SEQUENCE_LENGTH,)),\n",
        "    Embedding(VOCAB_SIZE,EMBEDDING_DIM),\n",
        "\n",
        "    Bidirectional(GRU(64,return_sequences=True)),\n",
        "    Bidirectional(GRU(32)),\n",
        "\n",
        "    Dense(64, activation='relu'),\n",
        "    Dropout(0.5),\n",
        "    Dense(1,activation='sigmoid'),\n",
        "])\n",
        "model.summary()"
      ],
      "metadata": {
        "id": "5m3njl7VYzrp"
      },
      "execution_count": null,
      "outputs": []
    },
    {
      "cell_type": "code",
      "source": [
        "model.compile(loss=tf.keras.losses.BinaryCrossentropy(),\n",
        "              optimizer=tf.keras.optimizers.Adam(1e-4),\n",
        "              metrics=['accuracy'])"
      ],
      "metadata": {
        "id": "9MgQdlpZYztl"
      },
      "execution_count": null,
      "outputs": []
    },
    {
      "cell_type": "markdown",
      "source": [
        "### 5.4 CNN"
      ],
      "metadata": {
        "id": "SQSgWZ85Yygz"
      }
    },
    {
      "cell_type": "markdown",
      "source": [],
      "metadata": {
        "id": "BDeVnGJpYyjI"
      }
    }
  ]
}