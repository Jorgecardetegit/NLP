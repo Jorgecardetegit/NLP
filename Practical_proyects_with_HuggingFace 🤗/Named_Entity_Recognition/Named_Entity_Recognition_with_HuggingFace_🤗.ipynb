{
  "nbformat": 4,
  "nbformat_minor": 0,
  "metadata": {
    "colab": {
      "provenance": [],
      "gpuType": "T4",
      "mount_file_id": "1LuqV9b2OIuqlMg6jU9oftGhR6zf5pMRp",
      "authorship_tag": "ABX9TyOYt/G7o+RMutFIdfM/0Xya",
      "include_colab_link": true
    },
    "kernelspec": {
      "name": "python3",
      "display_name": "Python 3"
    },
    "language_info": {
      "name": "python"
    },
    "accelerator": "GPU",
    "widgets": {
      "application/vnd.jupyter.widget-state+json": {
        "ec54d274adf8408593a6fbcca308160b": {
          "model_module": "@jupyter-widgets/controls",
          "model_name": "HBoxModel",
          "model_module_version": "1.5.0",
          "state": {
            "_dom_classes": [],
            "_model_module": "@jupyter-widgets/controls",
            "_model_module_version": "1.5.0",
            "_model_name": "HBoxModel",
            "_view_count": null,
            "_view_module": "@jupyter-widgets/controls",
            "_view_module_version": "1.5.0",
            "_view_name": "HBoxView",
            "box_style": "",
            "children": [
              "IPY_MODEL_3bab022d6b6f4098957219676cc887d2",
              "IPY_MODEL_343c857647ab455cb7a5856bdca6b35b",
              "IPY_MODEL_b938b62b0048416cb43332cd8fb1db61"
            ],
            "layout": "IPY_MODEL_81c73e157f794401a444f2e10a4253e6"
          }
        },
        "3bab022d6b6f4098957219676cc887d2": {
          "model_module": "@jupyter-widgets/controls",
          "model_name": "HTMLModel",
          "model_module_version": "1.5.0",
          "state": {
            "_dom_classes": [],
            "_model_module": "@jupyter-widgets/controls",
            "_model_module_version": "1.5.0",
            "_model_name": "HTMLModel",
            "_view_count": null,
            "_view_module": "@jupyter-widgets/controls",
            "_view_module_version": "1.5.0",
            "_view_name": "HTMLView",
            "description": "",
            "description_tooltip": null,
            "layout": "IPY_MODEL_26760cdb39e5434cabc7dd3b2984eb59",
            "placeholder": "​",
            "style": "IPY_MODEL_86aa95ab3c05443cbb4aa6a43aeab895",
            "value": "Downloading (…)olve/main/vocab.json: 100%"
          }
        },
        "343c857647ab455cb7a5856bdca6b35b": {
          "model_module": "@jupyter-widgets/controls",
          "model_name": "FloatProgressModel",
          "model_module_version": "1.5.0",
          "state": {
            "_dom_classes": [],
            "_model_module": "@jupyter-widgets/controls",
            "_model_module_version": "1.5.0",
            "_model_name": "FloatProgressModel",
            "_view_count": null,
            "_view_module": "@jupyter-widgets/controls",
            "_view_module_version": "1.5.0",
            "_view_name": "ProgressView",
            "bar_style": "success",
            "description": "",
            "description_tooltip": null,
            "layout": "IPY_MODEL_f3f07faed0814262863fd5b75b29ccc1",
            "max": 898823,
            "min": 0,
            "orientation": "horizontal",
            "style": "IPY_MODEL_4ad39df40bc243bdb0584c535899dff7",
            "value": 898823
          }
        },
        "b938b62b0048416cb43332cd8fb1db61": {
          "model_module": "@jupyter-widgets/controls",
          "model_name": "HTMLModel",
          "model_module_version": "1.5.0",
          "state": {
            "_dom_classes": [],
            "_model_module": "@jupyter-widgets/controls",
            "_model_module_version": "1.5.0",
            "_model_name": "HTMLModel",
            "_view_count": null,
            "_view_module": "@jupyter-widgets/controls",
            "_view_module_version": "1.5.0",
            "_view_name": "HTMLView",
            "description": "",
            "description_tooltip": null,
            "layout": "IPY_MODEL_f8912e2f09a64401bed770a34d3a7458",
            "placeholder": "​",
            "style": "IPY_MODEL_d8b4eb18ac874bf3bcf5e16688bd97dc",
            "value": " 899k/899k [00:00&lt;00:00, 1.16MB/s]"
          }
        },
        "81c73e157f794401a444f2e10a4253e6": {
          "model_module": "@jupyter-widgets/base",
          "model_name": "LayoutModel",
          "model_module_version": "1.2.0",
          "state": {
            "_model_module": "@jupyter-widgets/base",
            "_model_module_version": "1.2.0",
            "_model_name": "LayoutModel",
            "_view_count": null,
            "_view_module": "@jupyter-widgets/base",
            "_view_module_version": "1.2.0",
            "_view_name": "LayoutView",
            "align_content": null,
            "align_items": null,
            "align_self": null,
            "border": null,
            "bottom": null,
            "display": null,
            "flex": null,
            "flex_flow": null,
            "grid_area": null,
            "grid_auto_columns": null,
            "grid_auto_flow": null,
            "grid_auto_rows": null,
            "grid_column": null,
            "grid_gap": null,
            "grid_row": null,
            "grid_template_areas": null,
            "grid_template_columns": null,
            "grid_template_rows": null,
            "height": null,
            "justify_content": null,
            "justify_items": null,
            "left": null,
            "margin": null,
            "max_height": null,
            "max_width": null,
            "min_height": null,
            "min_width": null,
            "object_fit": null,
            "object_position": null,
            "order": null,
            "overflow": null,
            "overflow_x": null,
            "overflow_y": null,
            "padding": null,
            "right": null,
            "top": null,
            "visibility": null,
            "width": null
          }
        },
        "26760cdb39e5434cabc7dd3b2984eb59": {
          "model_module": "@jupyter-widgets/base",
          "model_name": "LayoutModel",
          "model_module_version": "1.2.0",
          "state": {
            "_model_module": "@jupyter-widgets/base",
            "_model_module_version": "1.2.0",
            "_model_name": "LayoutModel",
            "_view_count": null,
            "_view_module": "@jupyter-widgets/base",
            "_view_module_version": "1.2.0",
            "_view_name": "LayoutView",
            "align_content": null,
            "align_items": null,
            "align_self": null,
            "border": null,
            "bottom": null,
            "display": null,
            "flex": null,
            "flex_flow": null,
            "grid_area": null,
            "grid_auto_columns": null,
            "grid_auto_flow": null,
            "grid_auto_rows": null,
            "grid_column": null,
            "grid_gap": null,
            "grid_row": null,
            "grid_template_areas": null,
            "grid_template_columns": null,
            "grid_template_rows": null,
            "height": null,
            "justify_content": null,
            "justify_items": null,
            "left": null,
            "margin": null,
            "max_height": null,
            "max_width": null,
            "min_height": null,
            "min_width": null,
            "object_fit": null,
            "object_position": null,
            "order": null,
            "overflow": null,
            "overflow_x": null,
            "overflow_y": null,
            "padding": null,
            "right": null,
            "top": null,
            "visibility": null,
            "width": null
          }
        },
        "86aa95ab3c05443cbb4aa6a43aeab895": {
          "model_module": "@jupyter-widgets/controls",
          "model_name": "DescriptionStyleModel",
          "model_module_version": "1.5.0",
          "state": {
            "_model_module": "@jupyter-widgets/controls",
            "_model_module_version": "1.5.0",
            "_model_name": "DescriptionStyleModel",
            "_view_count": null,
            "_view_module": "@jupyter-widgets/base",
            "_view_module_version": "1.2.0",
            "_view_name": "StyleView",
            "description_width": ""
          }
        },
        "f3f07faed0814262863fd5b75b29ccc1": {
          "model_module": "@jupyter-widgets/base",
          "model_name": "LayoutModel",
          "model_module_version": "1.2.0",
          "state": {
            "_model_module": "@jupyter-widgets/base",
            "_model_module_version": "1.2.0",
            "_model_name": "LayoutModel",
            "_view_count": null,
            "_view_module": "@jupyter-widgets/base",
            "_view_module_version": "1.2.0",
            "_view_name": "LayoutView",
            "align_content": null,
            "align_items": null,
            "align_self": null,
            "border": null,
            "bottom": null,
            "display": null,
            "flex": null,
            "flex_flow": null,
            "grid_area": null,
            "grid_auto_columns": null,
            "grid_auto_flow": null,
            "grid_auto_rows": null,
            "grid_column": null,
            "grid_gap": null,
            "grid_row": null,
            "grid_template_areas": null,
            "grid_template_columns": null,
            "grid_template_rows": null,
            "height": null,
            "justify_content": null,
            "justify_items": null,
            "left": null,
            "margin": null,
            "max_height": null,
            "max_width": null,
            "min_height": null,
            "min_width": null,
            "object_fit": null,
            "object_position": null,
            "order": null,
            "overflow": null,
            "overflow_x": null,
            "overflow_y": null,
            "padding": null,
            "right": null,
            "top": null,
            "visibility": null,
            "width": null
          }
        },
        "4ad39df40bc243bdb0584c535899dff7": {
          "model_module": "@jupyter-widgets/controls",
          "model_name": "ProgressStyleModel",
          "model_module_version": "1.5.0",
          "state": {
            "_model_module": "@jupyter-widgets/controls",
            "_model_module_version": "1.5.0",
            "_model_name": "ProgressStyleModel",
            "_view_count": null,
            "_view_module": "@jupyter-widgets/base",
            "_view_module_version": "1.2.0",
            "_view_name": "StyleView",
            "bar_color": null,
            "description_width": ""
          }
        },
        "f8912e2f09a64401bed770a34d3a7458": {
          "model_module": "@jupyter-widgets/base",
          "model_name": "LayoutModel",
          "model_module_version": "1.2.0",
          "state": {
            "_model_module": "@jupyter-widgets/base",
            "_model_module_version": "1.2.0",
            "_model_name": "LayoutModel",
            "_view_count": null,
            "_view_module": "@jupyter-widgets/base",
            "_view_module_version": "1.2.0",
            "_view_name": "LayoutView",
            "align_content": null,
            "align_items": null,
            "align_self": null,
            "border": null,
            "bottom": null,
            "display": null,
            "flex": null,
            "flex_flow": null,
            "grid_area": null,
            "grid_auto_columns": null,
            "grid_auto_flow": null,
            "grid_auto_rows": null,
            "grid_column": null,
            "grid_gap": null,
            "grid_row": null,
            "grid_template_areas": null,
            "grid_template_columns": null,
            "grid_template_rows": null,
            "height": null,
            "justify_content": null,
            "justify_items": null,
            "left": null,
            "margin": null,
            "max_height": null,
            "max_width": null,
            "min_height": null,
            "min_width": null,
            "object_fit": null,
            "object_position": null,
            "order": null,
            "overflow": null,
            "overflow_x": null,
            "overflow_y": null,
            "padding": null,
            "right": null,
            "top": null,
            "visibility": null,
            "width": null
          }
        },
        "d8b4eb18ac874bf3bcf5e16688bd97dc": {
          "model_module": "@jupyter-widgets/controls",
          "model_name": "DescriptionStyleModel",
          "model_module_version": "1.5.0",
          "state": {
            "_model_module": "@jupyter-widgets/controls",
            "_model_module_version": "1.5.0",
            "_model_name": "DescriptionStyleModel",
            "_view_count": null,
            "_view_module": "@jupyter-widgets/base",
            "_view_module_version": "1.2.0",
            "_view_name": "StyleView",
            "description_width": ""
          }
        },
        "7746b55d459341f290eb44014c15c6b4": {
          "model_module": "@jupyter-widgets/controls",
          "model_name": "HBoxModel",
          "model_module_version": "1.5.0",
          "state": {
            "_dom_classes": [],
            "_model_module": "@jupyter-widgets/controls",
            "_model_module_version": "1.5.0",
            "_model_name": "HBoxModel",
            "_view_count": null,
            "_view_module": "@jupyter-widgets/controls",
            "_view_module_version": "1.5.0",
            "_view_name": "HBoxView",
            "box_style": "",
            "children": [
              "IPY_MODEL_52846dfc328a44c2949a0273e4b3fee4",
              "IPY_MODEL_0e130a77581f4a4c894ef11b2e3656d7",
              "IPY_MODEL_508b402003714c33a65d94a7c5ba7b05"
            ],
            "layout": "IPY_MODEL_4b62e41163ed45d9acec40bbf951ee96"
          }
        },
        "52846dfc328a44c2949a0273e4b3fee4": {
          "model_module": "@jupyter-widgets/controls",
          "model_name": "HTMLModel",
          "model_module_version": "1.5.0",
          "state": {
            "_dom_classes": [],
            "_model_module": "@jupyter-widgets/controls",
            "_model_module_version": "1.5.0",
            "_model_name": "HTMLModel",
            "_view_count": null,
            "_view_module": "@jupyter-widgets/controls",
            "_view_module_version": "1.5.0",
            "_view_name": "HTMLView",
            "description": "",
            "description_tooltip": null,
            "layout": "IPY_MODEL_202439b5a0da498f93d9bb39e6fcbd82",
            "placeholder": "​",
            "style": "IPY_MODEL_0b91e7491bb44adc9940a3819f0922ce",
            "value": "Downloading (…)olve/main/merges.txt: 100%"
          }
        },
        "0e130a77581f4a4c894ef11b2e3656d7": {
          "model_module": "@jupyter-widgets/controls",
          "model_name": "FloatProgressModel",
          "model_module_version": "1.5.0",
          "state": {
            "_dom_classes": [],
            "_model_module": "@jupyter-widgets/controls",
            "_model_module_version": "1.5.0",
            "_model_name": "FloatProgressModel",
            "_view_count": null,
            "_view_module": "@jupyter-widgets/controls",
            "_view_module_version": "1.5.0",
            "_view_name": "ProgressView",
            "bar_style": "success",
            "description": "",
            "description_tooltip": null,
            "layout": "IPY_MODEL_b365d3081ba442448e34809bca55878d",
            "max": 456318,
            "min": 0,
            "orientation": "horizontal",
            "style": "IPY_MODEL_d2eaa1cbfe6c42bbad1a97184557f6e3",
            "value": 456318
          }
        },
        "508b402003714c33a65d94a7c5ba7b05": {
          "model_module": "@jupyter-widgets/controls",
          "model_name": "HTMLModel",
          "model_module_version": "1.5.0",
          "state": {
            "_dom_classes": [],
            "_model_module": "@jupyter-widgets/controls",
            "_model_module_version": "1.5.0",
            "_model_name": "HTMLModel",
            "_view_count": null,
            "_view_module": "@jupyter-widgets/controls",
            "_view_module_version": "1.5.0",
            "_view_name": "HTMLView",
            "description": "",
            "description_tooltip": null,
            "layout": "IPY_MODEL_4097872f7f204629a00e8d3df5b839ea",
            "placeholder": "​",
            "style": "IPY_MODEL_bd15c7da864f4807bc54f6d40499c348",
            "value": " 456k/456k [00:00&lt;00:00, 784kB/s]"
          }
        },
        "4b62e41163ed45d9acec40bbf951ee96": {
          "model_module": "@jupyter-widgets/base",
          "model_name": "LayoutModel",
          "model_module_version": "1.2.0",
          "state": {
            "_model_module": "@jupyter-widgets/base",
            "_model_module_version": "1.2.0",
            "_model_name": "LayoutModel",
            "_view_count": null,
            "_view_module": "@jupyter-widgets/base",
            "_view_module_version": "1.2.0",
            "_view_name": "LayoutView",
            "align_content": null,
            "align_items": null,
            "align_self": null,
            "border": null,
            "bottom": null,
            "display": null,
            "flex": null,
            "flex_flow": null,
            "grid_area": null,
            "grid_auto_columns": null,
            "grid_auto_flow": null,
            "grid_auto_rows": null,
            "grid_column": null,
            "grid_gap": null,
            "grid_row": null,
            "grid_template_areas": null,
            "grid_template_columns": null,
            "grid_template_rows": null,
            "height": null,
            "justify_content": null,
            "justify_items": null,
            "left": null,
            "margin": null,
            "max_height": null,
            "max_width": null,
            "min_height": null,
            "min_width": null,
            "object_fit": null,
            "object_position": null,
            "order": null,
            "overflow": null,
            "overflow_x": null,
            "overflow_y": null,
            "padding": null,
            "right": null,
            "top": null,
            "visibility": null,
            "width": null
          }
        },
        "202439b5a0da498f93d9bb39e6fcbd82": {
          "model_module": "@jupyter-widgets/base",
          "model_name": "LayoutModel",
          "model_module_version": "1.2.0",
          "state": {
            "_model_module": "@jupyter-widgets/base",
            "_model_module_version": "1.2.0",
            "_model_name": "LayoutModel",
            "_view_count": null,
            "_view_module": "@jupyter-widgets/base",
            "_view_module_version": "1.2.0",
            "_view_name": "LayoutView",
            "align_content": null,
            "align_items": null,
            "align_self": null,
            "border": null,
            "bottom": null,
            "display": null,
            "flex": null,
            "flex_flow": null,
            "grid_area": null,
            "grid_auto_columns": null,
            "grid_auto_flow": null,
            "grid_auto_rows": null,
            "grid_column": null,
            "grid_gap": null,
            "grid_row": null,
            "grid_template_areas": null,
            "grid_template_columns": null,
            "grid_template_rows": null,
            "height": null,
            "justify_content": null,
            "justify_items": null,
            "left": null,
            "margin": null,
            "max_height": null,
            "max_width": null,
            "min_height": null,
            "min_width": null,
            "object_fit": null,
            "object_position": null,
            "order": null,
            "overflow": null,
            "overflow_x": null,
            "overflow_y": null,
            "padding": null,
            "right": null,
            "top": null,
            "visibility": null,
            "width": null
          }
        },
        "0b91e7491bb44adc9940a3819f0922ce": {
          "model_module": "@jupyter-widgets/controls",
          "model_name": "DescriptionStyleModel",
          "model_module_version": "1.5.0",
          "state": {
            "_model_module": "@jupyter-widgets/controls",
            "_model_module_version": "1.5.0",
            "_model_name": "DescriptionStyleModel",
            "_view_count": null,
            "_view_module": "@jupyter-widgets/base",
            "_view_module_version": "1.2.0",
            "_view_name": "StyleView",
            "description_width": ""
          }
        },
        "b365d3081ba442448e34809bca55878d": {
          "model_module": "@jupyter-widgets/base",
          "model_name": "LayoutModel",
          "model_module_version": "1.2.0",
          "state": {
            "_model_module": "@jupyter-widgets/base",
            "_model_module_version": "1.2.0",
            "_model_name": "LayoutModel",
            "_view_count": null,
            "_view_module": "@jupyter-widgets/base",
            "_view_module_version": "1.2.0",
            "_view_name": "LayoutView",
            "align_content": null,
            "align_items": null,
            "align_self": null,
            "border": null,
            "bottom": null,
            "display": null,
            "flex": null,
            "flex_flow": null,
            "grid_area": null,
            "grid_auto_columns": null,
            "grid_auto_flow": null,
            "grid_auto_rows": null,
            "grid_column": null,
            "grid_gap": null,
            "grid_row": null,
            "grid_template_areas": null,
            "grid_template_columns": null,
            "grid_template_rows": null,
            "height": null,
            "justify_content": null,
            "justify_items": null,
            "left": null,
            "margin": null,
            "max_height": null,
            "max_width": null,
            "min_height": null,
            "min_width": null,
            "object_fit": null,
            "object_position": null,
            "order": null,
            "overflow": null,
            "overflow_x": null,
            "overflow_y": null,
            "padding": null,
            "right": null,
            "top": null,
            "visibility": null,
            "width": null
          }
        },
        "d2eaa1cbfe6c42bbad1a97184557f6e3": {
          "model_module": "@jupyter-widgets/controls",
          "model_name": "ProgressStyleModel",
          "model_module_version": "1.5.0",
          "state": {
            "_model_module": "@jupyter-widgets/controls",
            "_model_module_version": "1.5.0",
            "_model_name": "ProgressStyleModel",
            "_view_count": null,
            "_view_module": "@jupyter-widgets/base",
            "_view_module_version": "1.2.0",
            "_view_name": "StyleView",
            "bar_color": null,
            "description_width": ""
          }
        },
        "4097872f7f204629a00e8d3df5b839ea": {
          "model_module": "@jupyter-widgets/base",
          "model_name": "LayoutModel",
          "model_module_version": "1.2.0",
          "state": {
            "_model_module": "@jupyter-widgets/base",
            "_model_module_version": "1.2.0",
            "_model_name": "LayoutModel",
            "_view_count": null,
            "_view_module": "@jupyter-widgets/base",
            "_view_module_version": "1.2.0",
            "_view_name": "LayoutView",
            "align_content": null,
            "align_items": null,
            "align_self": null,
            "border": null,
            "bottom": null,
            "display": null,
            "flex": null,
            "flex_flow": null,
            "grid_area": null,
            "grid_auto_columns": null,
            "grid_auto_flow": null,
            "grid_auto_rows": null,
            "grid_column": null,
            "grid_gap": null,
            "grid_row": null,
            "grid_template_areas": null,
            "grid_template_columns": null,
            "grid_template_rows": null,
            "height": null,
            "justify_content": null,
            "justify_items": null,
            "left": null,
            "margin": null,
            "max_height": null,
            "max_width": null,
            "min_height": null,
            "min_width": null,
            "object_fit": null,
            "object_position": null,
            "order": null,
            "overflow": null,
            "overflow_x": null,
            "overflow_y": null,
            "padding": null,
            "right": null,
            "top": null,
            "visibility": null,
            "width": null
          }
        },
        "bd15c7da864f4807bc54f6d40499c348": {
          "model_module": "@jupyter-widgets/controls",
          "model_name": "DescriptionStyleModel",
          "model_module_version": "1.5.0",
          "state": {
            "_model_module": "@jupyter-widgets/controls",
            "_model_module_version": "1.5.0",
            "_model_name": "DescriptionStyleModel",
            "_view_count": null,
            "_view_module": "@jupyter-widgets/base",
            "_view_module_version": "1.2.0",
            "_view_name": "StyleView",
            "description_width": ""
          }
        },
        "32003d4d715347f2923ef07f666dcefb": {
          "model_module": "@jupyter-widgets/controls",
          "model_name": "HBoxModel",
          "model_module_version": "1.5.0",
          "state": {
            "_dom_classes": [],
            "_model_module": "@jupyter-widgets/controls",
            "_model_module_version": "1.5.0",
            "_model_name": "HBoxModel",
            "_view_count": null,
            "_view_module": "@jupyter-widgets/controls",
            "_view_module_version": "1.5.0",
            "_view_name": "HBoxView",
            "box_style": "",
            "children": [
              "IPY_MODEL_ef929eb6bb7d4437876991197cb284a5",
              "IPY_MODEL_50b262e502b84c2f9071de401e8e0832",
              "IPY_MODEL_a50009033ae74503a551d96d462aff4b"
            ],
            "layout": "IPY_MODEL_f5dcd97972b746a2a14c8ccd41ea029f"
          }
        },
        "ef929eb6bb7d4437876991197cb284a5": {
          "model_module": "@jupyter-widgets/controls",
          "model_name": "HTMLModel",
          "model_module_version": "1.5.0",
          "state": {
            "_dom_classes": [],
            "_model_module": "@jupyter-widgets/controls",
            "_model_module_version": "1.5.0",
            "_model_name": "HTMLModel",
            "_view_count": null,
            "_view_module": "@jupyter-widgets/controls",
            "_view_module_version": "1.5.0",
            "_view_name": "HTMLView",
            "description": "",
            "description_tooltip": null,
            "layout": "IPY_MODEL_64925dd15dc546c0bebefe40625af36a",
            "placeholder": "​",
            "style": "IPY_MODEL_60ba2fb5220e4b9ca2a3f61cf244910a",
            "value": "Downloading (…)/main/tokenizer.json: 100%"
          }
        },
        "50b262e502b84c2f9071de401e8e0832": {
          "model_module": "@jupyter-widgets/controls",
          "model_name": "FloatProgressModel",
          "model_module_version": "1.5.0",
          "state": {
            "_dom_classes": [],
            "_model_module": "@jupyter-widgets/controls",
            "_model_module_version": "1.5.0",
            "_model_name": "FloatProgressModel",
            "_view_count": null,
            "_view_module": "@jupyter-widgets/controls",
            "_view_module_version": "1.5.0",
            "_view_name": "ProgressView",
            "bar_style": "success",
            "description": "",
            "description_tooltip": null,
            "layout": "IPY_MODEL_8bac12c3a4474fb1979909fa9bc44245",
            "max": 1355863,
            "min": 0,
            "orientation": "horizontal",
            "style": "IPY_MODEL_f1931d410c4f4a2d8c56bec0988ba9ef",
            "value": 1355863
          }
        },
        "a50009033ae74503a551d96d462aff4b": {
          "model_module": "@jupyter-widgets/controls",
          "model_name": "HTMLModel",
          "model_module_version": "1.5.0",
          "state": {
            "_dom_classes": [],
            "_model_module": "@jupyter-widgets/controls",
            "_model_module_version": "1.5.0",
            "_model_name": "HTMLModel",
            "_view_count": null,
            "_view_module": "@jupyter-widgets/controls",
            "_view_module_version": "1.5.0",
            "_view_name": "HTMLView",
            "description": "",
            "description_tooltip": null,
            "layout": "IPY_MODEL_60af9caaea384543ab0a7d3ebd0d17e6",
            "placeholder": "​",
            "style": "IPY_MODEL_35559f06c394439d8df8eebbfacdb0ce",
            "value": " 1.36M/1.36M [00:00&lt;00:00, 1.40MB/s]"
          }
        },
        "f5dcd97972b746a2a14c8ccd41ea029f": {
          "model_module": "@jupyter-widgets/base",
          "model_name": "LayoutModel",
          "model_module_version": "1.2.0",
          "state": {
            "_model_module": "@jupyter-widgets/base",
            "_model_module_version": "1.2.0",
            "_model_name": "LayoutModel",
            "_view_count": null,
            "_view_module": "@jupyter-widgets/base",
            "_view_module_version": "1.2.0",
            "_view_name": "LayoutView",
            "align_content": null,
            "align_items": null,
            "align_self": null,
            "border": null,
            "bottom": null,
            "display": null,
            "flex": null,
            "flex_flow": null,
            "grid_area": null,
            "grid_auto_columns": null,
            "grid_auto_flow": null,
            "grid_auto_rows": null,
            "grid_column": null,
            "grid_gap": null,
            "grid_row": null,
            "grid_template_areas": null,
            "grid_template_columns": null,
            "grid_template_rows": null,
            "height": null,
            "justify_content": null,
            "justify_items": null,
            "left": null,
            "margin": null,
            "max_height": null,
            "max_width": null,
            "min_height": null,
            "min_width": null,
            "object_fit": null,
            "object_position": null,
            "order": null,
            "overflow": null,
            "overflow_x": null,
            "overflow_y": null,
            "padding": null,
            "right": null,
            "top": null,
            "visibility": null,
            "width": null
          }
        },
        "64925dd15dc546c0bebefe40625af36a": {
          "model_module": "@jupyter-widgets/base",
          "model_name": "LayoutModel",
          "model_module_version": "1.2.0",
          "state": {
            "_model_module": "@jupyter-widgets/base",
            "_model_module_version": "1.2.0",
            "_model_name": "LayoutModel",
            "_view_count": null,
            "_view_module": "@jupyter-widgets/base",
            "_view_module_version": "1.2.0",
            "_view_name": "LayoutView",
            "align_content": null,
            "align_items": null,
            "align_self": null,
            "border": null,
            "bottom": null,
            "display": null,
            "flex": null,
            "flex_flow": null,
            "grid_area": null,
            "grid_auto_columns": null,
            "grid_auto_flow": null,
            "grid_auto_rows": null,
            "grid_column": null,
            "grid_gap": null,
            "grid_row": null,
            "grid_template_areas": null,
            "grid_template_columns": null,
            "grid_template_rows": null,
            "height": null,
            "justify_content": null,
            "justify_items": null,
            "left": null,
            "margin": null,
            "max_height": null,
            "max_width": null,
            "min_height": null,
            "min_width": null,
            "object_fit": null,
            "object_position": null,
            "order": null,
            "overflow": null,
            "overflow_x": null,
            "overflow_y": null,
            "padding": null,
            "right": null,
            "top": null,
            "visibility": null,
            "width": null
          }
        },
        "60ba2fb5220e4b9ca2a3f61cf244910a": {
          "model_module": "@jupyter-widgets/controls",
          "model_name": "DescriptionStyleModel",
          "model_module_version": "1.5.0",
          "state": {
            "_model_module": "@jupyter-widgets/controls",
            "_model_module_version": "1.5.0",
            "_model_name": "DescriptionStyleModel",
            "_view_count": null,
            "_view_module": "@jupyter-widgets/base",
            "_view_module_version": "1.2.0",
            "_view_name": "StyleView",
            "description_width": ""
          }
        },
        "8bac12c3a4474fb1979909fa9bc44245": {
          "model_module": "@jupyter-widgets/base",
          "model_name": "LayoutModel",
          "model_module_version": "1.2.0",
          "state": {
            "_model_module": "@jupyter-widgets/base",
            "_model_module_version": "1.2.0",
            "_model_name": "LayoutModel",
            "_view_count": null,
            "_view_module": "@jupyter-widgets/base",
            "_view_module_version": "1.2.0",
            "_view_name": "LayoutView",
            "align_content": null,
            "align_items": null,
            "align_self": null,
            "border": null,
            "bottom": null,
            "display": null,
            "flex": null,
            "flex_flow": null,
            "grid_area": null,
            "grid_auto_columns": null,
            "grid_auto_flow": null,
            "grid_auto_rows": null,
            "grid_column": null,
            "grid_gap": null,
            "grid_row": null,
            "grid_template_areas": null,
            "grid_template_columns": null,
            "grid_template_rows": null,
            "height": null,
            "justify_content": null,
            "justify_items": null,
            "left": null,
            "margin": null,
            "max_height": null,
            "max_width": null,
            "min_height": null,
            "min_width": null,
            "object_fit": null,
            "object_position": null,
            "order": null,
            "overflow": null,
            "overflow_x": null,
            "overflow_y": null,
            "padding": null,
            "right": null,
            "top": null,
            "visibility": null,
            "width": null
          }
        },
        "f1931d410c4f4a2d8c56bec0988ba9ef": {
          "model_module": "@jupyter-widgets/controls",
          "model_name": "ProgressStyleModel",
          "model_module_version": "1.5.0",
          "state": {
            "_model_module": "@jupyter-widgets/controls",
            "_model_module_version": "1.5.0",
            "_model_name": "ProgressStyleModel",
            "_view_count": null,
            "_view_module": "@jupyter-widgets/base",
            "_view_module_version": "1.2.0",
            "_view_name": "StyleView",
            "bar_color": null,
            "description_width": ""
          }
        },
        "60af9caaea384543ab0a7d3ebd0d17e6": {
          "model_module": "@jupyter-widgets/base",
          "model_name": "LayoutModel",
          "model_module_version": "1.2.0",
          "state": {
            "_model_module": "@jupyter-widgets/base",
            "_model_module_version": "1.2.0",
            "_model_name": "LayoutModel",
            "_view_count": null,
            "_view_module": "@jupyter-widgets/base",
            "_view_module_version": "1.2.0",
            "_view_name": "LayoutView",
            "align_content": null,
            "align_items": null,
            "align_self": null,
            "border": null,
            "bottom": null,
            "display": null,
            "flex": null,
            "flex_flow": null,
            "grid_area": null,
            "grid_auto_columns": null,
            "grid_auto_flow": null,
            "grid_auto_rows": null,
            "grid_column": null,
            "grid_gap": null,
            "grid_row": null,
            "grid_template_areas": null,
            "grid_template_columns": null,
            "grid_template_rows": null,
            "height": null,
            "justify_content": null,
            "justify_items": null,
            "left": null,
            "margin": null,
            "max_height": null,
            "max_width": null,
            "min_height": null,
            "min_width": null,
            "object_fit": null,
            "object_position": null,
            "order": null,
            "overflow": null,
            "overflow_x": null,
            "overflow_y": null,
            "padding": null,
            "right": null,
            "top": null,
            "visibility": null,
            "width": null
          }
        },
        "35559f06c394439d8df8eebbfacdb0ce": {
          "model_module": "@jupyter-widgets/controls",
          "model_name": "DescriptionStyleModel",
          "model_module_version": "1.5.0",
          "state": {
            "_model_module": "@jupyter-widgets/controls",
            "_model_module_version": "1.5.0",
            "_model_name": "DescriptionStyleModel",
            "_view_count": null,
            "_view_module": "@jupyter-widgets/base",
            "_view_module_version": "1.2.0",
            "_view_name": "StyleView",
            "description_width": ""
          }
        },
        "d8b21acbe92943c3bde625f7126b92ca": {
          "model_module": "@jupyter-widgets/controls",
          "model_name": "HBoxModel",
          "model_module_version": "1.5.0",
          "state": {
            "_dom_classes": [],
            "_model_module": "@jupyter-widgets/controls",
            "_model_module_version": "1.5.0",
            "_model_name": "HBoxModel",
            "_view_count": null,
            "_view_module": "@jupyter-widgets/controls",
            "_view_module_version": "1.5.0",
            "_view_name": "HBoxView",
            "box_style": "",
            "children": [
              "IPY_MODEL_d4508181b9444607a567a74fb0beb4f7",
              "IPY_MODEL_55cd0b2804784dfe9e7774379b679e54",
              "IPY_MODEL_7727a5d22dd34cbd8e4a2edcfc4e3d3b"
            ],
            "layout": "IPY_MODEL_13e60a1fa7dc4d2bbbf1cb9f19a48a15"
          }
        },
        "d4508181b9444607a567a74fb0beb4f7": {
          "model_module": "@jupyter-widgets/controls",
          "model_name": "HTMLModel",
          "model_module_version": "1.5.0",
          "state": {
            "_dom_classes": [],
            "_model_module": "@jupyter-widgets/controls",
            "_model_module_version": "1.5.0",
            "_model_name": "HTMLModel",
            "_view_count": null,
            "_view_module": "@jupyter-widgets/controls",
            "_view_module_version": "1.5.0",
            "_view_name": "HTMLView",
            "description": "",
            "description_tooltip": null,
            "layout": "IPY_MODEL_5f07a74401a247f2831982db0987d2aa",
            "placeholder": "​",
            "style": "IPY_MODEL_bc0bd73f36694b19b4034d96780f2dfe",
            "value": "Downloading (…)lve/main/config.json: 100%"
          }
        },
        "55cd0b2804784dfe9e7774379b679e54": {
          "model_module": "@jupyter-widgets/controls",
          "model_name": "FloatProgressModel",
          "model_module_version": "1.5.0",
          "state": {
            "_dom_classes": [],
            "_model_module": "@jupyter-widgets/controls",
            "_model_module_version": "1.5.0",
            "_model_name": "FloatProgressModel",
            "_view_count": null,
            "_view_module": "@jupyter-widgets/controls",
            "_view_module_version": "1.5.0",
            "_view_name": "ProgressView",
            "bar_style": "success",
            "description": "",
            "description_tooltip": null,
            "layout": "IPY_MODEL_86229edcce8841fbbdb247c640493e47",
            "max": 481,
            "min": 0,
            "orientation": "horizontal",
            "style": "IPY_MODEL_8ae56d99d91f47e38d4465cf8574a3ec",
            "value": 481
          }
        },
        "7727a5d22dd34cbd8e4a2edcfc4e3d3b": {
          "model_module": "@jupyter-widgets/controls",
          "model_name": "HTMLModel",
          "model_module_version": "1.5.0",
          "state": {
            "_dom_classes": [],
            "_model_module": "@jupyter-widgets/controls",
            "_model_module_version": "1.5.0",
            "_model_name": "HTMLModel",
            "_view_count": null,
            "_view_module": "@jupyter-widgets/controls",
            "_view_module_version": "1.5.0",
            "_view_name": "HTMLView",
            "description": "",
            "description_tooltip": null,
            "layout": "IPY_MODEL_e01b104d2afe45a59423e1beb5712d49",
            "placeholder": "​",
            "style": "IPY_MODEL_c34da7db3cdf49a39c90e6aa89d9a87b",
            "value": " 481/481 [00:00&lt;00:00, 23.0kB/s]"
          }
        },
        "13e60a1fa7dc4d2bbbf1cb9f19a48a15": {
          "model_module": "@jupyter-widgets/base",
          "model_name": "LayoutModel",
          "model_module_version": "1.2.0",
          "state": {
            "_model_module": "@jupyter-widgets/base",
            "_model_module_version": "1.2.0",
            "_model_name": "LayoutModel",
            "_view_count": null,
            "_view_module": "@jupyter-widgets/base",
            "_view_module_version": "1.2.0",
            "_view_name": "LayoutView",
            "align_content": null,
            "align_items": null,
            "align_self": null,
            "border": null,
            "bottom": null,
            "display": null,
            "flex": null,
            "flex_flow": null,
            "grid_area": null,
            "grid_auto_columns": null,
            "grid_auto_flow": null,
            "grid_auto_rows": null,
            "grid_column": null,
            "grid_gap": null,
            "grid_row": null,
            "grid_template_areas": null,
            "grid_template_columns": null,
            "grid_template_rows": null,
            "height": null,
            "justify_content": null,
            "justify_items": null,
            "left": null,
            "margin": null,
            "max_height": null,
            "max_width": null,
            "min_height": null,
            "min_width": null,
            "object_fit": null,
            "object_position": null,
            "order": null,
            "overflow": null,
            "overflow_x": null,
            "overflow_y": null,
            "padding": null,
            "right": null,
            "top": null,
            "visibility": null,
            "width": null
          }
        },
        "5f07a74401a247f2831982db0987d2aa": {
          "model_module": "@jupyter-widgets/base",
          "model_name": "LayoutModel",
          "model_module_version": "1.2.0",
          "state": {
            "_model_module": "@jupyter-widgets/base",
            "_model_module_version": "1.2.0",
            "_model_name": "LayoutModel",
            "_view_count": null,
            "_view_module": "@jupyter-widgets/base",
            "_view_module_version": "1.2.0",
            "_view_name": "LayoutView",
            "align_content": null,
            "align_items": null,
            "align_self": null,
            "border": null,
            "bottom": null,
            "display": null,
            "flex": null,
            "flex_flow": null,
            "grid_area": null,
            "grid_auto_columns": null,
            "grid_auto_flow": null,
            "grid_auto_rows": null,
            "grid_column": null,
            "grid_gap": null,
            "grid_row": null,
            "grid_template_areas": null,
            "grid_template_columns": null,
            "grid_template_rows": null,
            "height": null,
            "justify_content": null,
            "justify_items": null,
            "left": null,
            "margin": null,
            "max_height": null,
            "max_width": null,
            "min_height": null,
            "min_width": null,
            "object_fit": null,
            "object_position": null,
            "order": null,
            "overflow": null,
            "overflow_x": null,
            "overflow_y": null,
            "padding": null,
            "right": null,
            "top": null,
            "visibility": null,
            "width": null
          }
        },
        "bc0bd73f36694b19b4034d96780f2dfe": {
          "model_module": "@jupyter-widgets/controls",
          "model_name": "DescriptionStyleModel",
          "model_module_version": "1.5.0",
          "state": {
            "_model_module": "@jupyter-widgets/controls",
            "_model_module_version": "1.5.0",
            "_model_name": "DescriptionStyleModel",
            "_view_count": null,
            "_view_module": "@jupyter-widgets/base",
            "_view_module_version": "1.2.0",
            "_view_name": "StyleView",
            "description_width": ""
          }
        },
        "86229edcce8841fbbdb247c640493e47": {
          "model_module": "@jupyter-widgets/base",
          "model_name": "LayoutModel",
          "model_module_version": "1.2.0",
          "state": {
            "_model_module": "@jupyter-widgets/base",
            "_model_module_version": "1.2.0",
            "_model_name": "LayoutModel",
            "_view_count": null,
            "_view_module": "@jupyter-widgets/base",
            "_view_module_version": "1.2.0",
            "_view_name": "LayoutView",
            "align_content": null,
            "align_items": null,
            "align_self": null,
            "border": null,
            "bottom": null,
            "display": null,
            "flex": null,
            "flex_flow": null,
            "grid_area": null,
            "grid_auto_columns": null,
            "grid_auto_flow": null,
            "grid_auto_rows": null,
            "grid_column": null,
            "grid_gap": null,
            "grid_row": null,
            "grid_template_areas": null,
            "grid_template_columns": null,
            "grid_template_rows": null,
            "height": null,
            "justify_content": null,
            "justify_items": null,
            "left": null,
            "margin": null,
            "max_height": null,
            "max_width": null,
            "min_height": null,
            "min_width": null,
            "object_fit": null,
            "object_position": null,
            "order": null,
            "overflow": null,
            "overflow_x": null,
            "overflow_y": null,
            "padding": null,
            "right": null,
            "top": null,
            "visibility": null,
            "width": null
          }
        },
        "8ae56d99d91f47e38d4465cf8574a3ec": {
          "model_module": "@jupyter-widgets/controls",
          "model_name": "ProgressStyleModel",
          "model_module_version": "1.5.0",
          "state": {
            "_model_module": "@jupyter-widgets/controls",
            "_model_module_version": "1.5.0",
            "_model_name": "ProgressStyleModel",
            "_view_count": null,
            "_view_module": "@jupyter-widgets/base",
            "_view_module_version": "1.2.0",
            "_view_name": "StyleView",
            "bar_color": null,
            "description_width": ""
          }
        },
        "e01b104d2afe45a59423e1beb5712d49": {
          "model_module": "@jupyter-widgets/base",
          "model_name": "LayoutModel",
          "model_module_version": "1.2.0",
          "state": {
            "_model_module": "@jupyter-widgets/base",
            "_model_module_version": "1.2.0",
            "_model_name": "LayoutModel",
            "_view_count": null,
            "_view_module": "@jupyter-widgets/base",
            "_view_module_version": "1.2.0",
            "_view_name": "LayoutView",
            "align_content": null,
            "align_items": null,
            "align_self": null,
            "border": null,
            "bottom": null,
            "display": null,
            "flex": null,
            "flex_flow": null,
            "grid_area": null,
            "grid_auto_columns": null,
            "grid_auto_flow": null,
            "grid_auto_rows": null,
            "grid_column": null,
            "grid_gap": null,
            "grid_row": null,
            "grid_template_areas": null,
            "grid_template_columns": null,
            "grid_template_rows": null,
            "height": null,
            "justify_content": null,
            "justify_items": null,
            "left": null,
            "margin": null,
            "max_height": null,
            "max_width": null,
            "min_height": null,
            "min_width": null,
            "object_fit": null,
            "object_position": null,
            "order": null,
            "overflow": null,
            "overflow_x": null,
            "overflow_y": null,
            "padding": null,
            "right": null,
            "top": null,
            "visibility": null,
            "width": null
          }
        },
        "c34da7db3cdf49a39c90e6aa89d9a87b": {
          "model_module": "@jupyter-widgets/controls",
          "model_name": "DescriptionStyleModel",
          "model_module_version": "1.5.0",
          "state": {
            "_model_module": "@jupyter-widgets/controls",
            "_model_module_version": "1.5.0",
            "_model_name": "DescriptionStyleModel",
            "_view_count": null,
            "_view_module": "@jupyter-widgets/base",
            "_view_module_version": "1.2.0",
            "_view_name": "StyleView",
            "description_width": ""
          }
        },
        "d2bed85ffc884d76a00fb8fc026a6e05": {
          "model_module": "@jupyter-widgets/controls",
          "model_name": "HBoxModel",
          "model_module_version": "1.5.0",
          "state": {
            "_dom_classes": [],
            "_model_module": "@jupyter-widgets/controls",
            "_model_module_version": "1.5.0",
            "_model_name": "HBoxModel",
            "_view_count": null,
            "_view_module": "@jupyter-widgets/controls",
            "_view_module_version": "1.5.0",
            "_view_name": "HBoxView",
            "box_style": "",
            "children": [
              "IPY_MODEL_2c41529ac8e94f34a602221b266f508b",
              "IPY_MODEL_92f3f47b57d64200a71a1a9b2368194e",
              "IPY_MODEL_3ace865b499c4647a0e272a72c8b8a64"
            ],
            "layout": "IPY_MODEL_344932e2edcf4bb0bb5625c3613e716c"
          }
        },
        "2c41529ac8e94f34a602221b266f508b": {
          "model_module": "@jupyter-widgets/controls",
          "model_name": "HTMLModel",
          "model_module_version": "1.5.0",
          "state": {
            "_dom_classes": [],
            "_model_module": "@jupyter-widgets/controls",
            "_model_module_version": "1.5.0",
            "_model_name": "HTMLModel",
            "_view_count": null,
            "_view_module": "@jupyter-widgets/controls",
            "_view_module_version": "1.5.0",
            "_view_name": "HTMLView",
            "description": "",
            "description_tooltip": null,
            "layout": "IPY_MODEL_9aafbeaf20c645ef99f6d399c68315eb",
            "placeholder": "​",
            "style": "IPY_MODEL_a7a04993093549d99b04606fc8aa21f3",
            "value": "Map: 100%"
          }
        },
        "92f3f47b57d64200a71a1a9b2368194e": {
          "model_module": "@jupyter-widgets/controls",
          "model_name": "FloatProgressModel",
          "model_module_version": "1.5.0",
          "state": {
            "_dom_classes": [],
            "_model_module": "@jupyter-widgets/controls",
            "_model_module_version": "1.5.0",
            "_model_name": "FloatProgressModel",
            "_view_count": null,
            "_view_module": "@jupyter-widgets/controls",
            "_view_module_version": "1.5.0",
            "_view_name": "ProgressView",
            "bar_style": "success",
            "description": "",
            "description_tooltip": null,
            "layout": "IPY_MODEL_b0311be2ed0744fdb38eed448580c465",
            "max": 14041,
            "min": 0,
            "orientation": "horizontal",
            "style": "IPY_MODEL_e7bfab38f0e141dcb84766adba2839ed",
            "value": 14041
          }
        },
        "3ace865b499c4647a0e272a72c8b8a64": {
          "model_module": "@jupyter-widgets/controls",
          "model_name": "HTMLModel",
          "model_module_version": "1.5.0",
          "state": {
            "_dom_classes": [],
            "_model_module": "@jupyter-widgets/controls",
            "_model_module_version": "1.5.0",
            "_model_name": "HTMLModel",
            "_view_count": null,
            "_view_module": "@jupyter-widgets/controls",
            "_view_module_version": "1.5.0",
            "_view_name": "HTMLView",
            "description": "",
            "description_tooltip": null,
            "layout": "IPY_MODEL_72e178985ecc4d67846ca73285aa4540",
            "placeholder": "​",
            "style": "IPY_MODEL_f44220423d744fa8819691d3050d2be5",
            "value": " 14041/14041 [00:05&lt;00:00, 1697.01 examples/s]"
          }
        },
        "344932e2edcf4bb0bb5625c3613e716c": {
          "model_module": "@jupyter-widgets/base",
          "model_name": "LayoutModel",
          "model_module_version": "1.2.0",
          "state": {
            "_model_module": "@jupyter-widgets/base",
            "_model_module_version": "1.2.0",
            "_model_name": "LayoutModel",
            "_view_count": null,
            "_view_module": "@jupyter-widgets/base",
            "_view_module_version": "1.2.0",
            "_view_name": "LayoutView",
            "align_content": null,
            "align_items": null,
            "align_self": null,
            "border": null,
            "bottom": null,
            "display": null,
            "flex": null,
            "flex_flow": null,
            "grid_area": null,
            "grid_auto_columns": null,
            "grid_auto_flow": null,
            "grid_auto_rows": null,
            "grid_column": null,
            "grid_gap": null,
            "grid_row": null,
            "grid_template_areas": null,
            "grid_template_columns": null,
            "grid_template_rows": null,
            "height": null,
            "justify_content": null,
            "justify_items": null,
            "left": null,
            "margin": null,
            "max_height": null,
            "max_width": null,
            "min_height": null,
            "min_width": null,
            "object_fit": null,
            "object_position": null,
            "order": null,
            "overflow": null,
            "overflow_x": null,
            "overflow_y": null,
            "padding": null,
            "right": null,
            "top": null,
            "visibility": null,
            "width": null
          }
        },
        "9aafbeaf20c645ef99f6d399c68315eb": {
          "model_module": "@jupyter-widgets/base",
          "model_name": "LayoutModel",
          "model_module_version": "1.2.0",
          "state": {
            "_model_module": "@jupyter-widgets/base",
            "_model_module_version": "1.2.0",
            "_model_name": "LayoutModel",
            "_view_count": null,
            "_view_module": "@jupyter-widgets/base",
            "_view_module_version": "1.2.0",
            "_view_name": "LayoutView",
            "align_content": null,
            "align_items": null,
            "align_self": null,
            "border": null,
            "bottom": null,
            "display": null,
            "flex": null,
            "flex_flow": null,
            "grid_area": null,
            "grid_auto_columns": null,
            "grid_auto_flow": null,
            "grid_auto_rows": null,
            "grid_column": null,
            "grid_gap": null,
            "grid_row": null,
            "grid_template_areas": null,
            "grid_template_columns": null,
            "grid_template_rows": null,
            "height": null,
            "justify_content": null,
            "justify_items": null,
            "left": null,
            "margin": null,
            "max_height": null,
            "max_width": null,
            "min_height": null,
            "min_width": null,
            "object_fit": null,
            "object_position": null,
            "order": null,
            "overflow": null,
            "overflow_x": null,
            "overflow_y": null,
            "padding": null,
            "right": null,
            "top": null,
            "visibility": null,
            "width": null
          }
        },
        "a7a04993093549d99b04606fc8aa21f3": {
          "model_module": "@jupyter-widgets/controls",
          "model_name": "DescriptionStyleModel",
          "model_module_version": "1.5.0",
          "state": {
            "_model_module": "@jupyter-widgets/controls",
            "_model_module_version": "1.5.0",
            "_model_name": "DescriptionStyleModel",
            "_view_count": null,
            "_view_module": "@jupyter-widgets/base",
            "_view_module_version": "1.2.0",
            "_view_name": "StyleView",
            "description_width": ""
          }
        },
        "b0311be2ed0744fdb38eed448580c465": {
          "model_module": "@jupyter-widgets/base",
          "model_name": "LayoutModel",
          "model_module_version": "1.2.0",
          "state": {
            "_model_module": "@jupyter-widgets/base",
            "_model_module_version": "1.2.0",
            "_model_name": "LayoutModel",
            "_view_count": null,
            "_view_module": "@jupyter-widgets/base",
            "_view_module_version": "1.2.0",
            "_view_name": "LayoutView",
            "align_content": null,
            "align_items": null,
            "align_self": null,
            "border": null,
            "bottom": null,
            "display": null,
            "flex": null,
            "flex_flow": null,
            "grid_area": null,
            "grid_auto_columns": null,
            "grid_auto_flow": null,
            "grid_auto_rows": null,
            "grid_column": null,
            "grid_gap": null,
            "grid_row": null,
            "grid_template_areas": null,
            "grid_template_columns": null,
            "grid_template_rows": null,
            "height": null,
            "justify_content": null,
            "justify_items": null,
            "left": null,
            "margin": null,
            "max_height": null,
            "max_width": null,
            "min_height": null,
            "min_width": null,
            "object_fit": null,
            "object_position": null,
            "order": null,
            "overflow": null,
            "overflow_x": null,
            "overflow_y": null,
            "padding": null,
            "right": null,
            "top": null,
            "visibility": null,
            "width": null
          }
        },
        "e7bfab38f0e141dcb84766adba2839ed": {
          "model_module": "@jupyter-widgets/controls",
          "model_name": "ProgressStyleModel",
          "model_module_version": "1.5.0",
          "state": {
            "_model_module": "@jupyter-widgets/controls",
            "_model_module_version": "1.5.0",
            "_model_name": "ProgressStyleModel",
            "_view_count": null,
            "_view_module": "@jupyter-widgets/base",
            "_view_module_version": "1.2.0",
            "_view_name": "StyleView",
            "bar_color": null,
            "description_width": ""
          }
        },
        "72e178985ecc4d67846ca73285aa4540": {
          "model_module": "@jupyter-widgets/base",
          "model_name": "LayoutModel",
          "model_module_version": "1.2.0",
          "state": {
            "_model_module": "@jupyter-widgets/base",
            "_model_module_version": "1.2.0",
            "_model_name": "LayoutModel",
            "_view_count": null,
            "_view_module": "@jupyter-widgets/base",
            "_view_module_version": "1.2.0",
            "_view_name": "LayoutView",
            "align_content": null,
            "align_items": null,
            "align_self": null,
            "border": null,
            "bottom": null,
            "display": null,
            "flex": null,
            "flex_flow": null,
            "grid_area": null,
            "grid_auto_columns": null,
            "grid_auto_flow": null,
            "grid_auto_rows": null,
            "grid_column": null,
            "grid_gap": null,
            "grid_row": null,
            "grid_template_areas": null,
            "grid_template_columns": null,
            "grid_template_rows": null,
            "height": null,
            "justify_content": null,
            "justify_items": null,
            "left": null,
            "margin": null,
            "max_height": null,
            "max_width": null,
            "min_height": null,
            "min_width": null,
            "object_fit": null,
            "object_position": null,
            "order": null,
            "overflow": null,
            "overflow_x": null,
            "overflow_y": null,
            "padding": null,
            "right": null,
            "top": null,
            "visibility": null,
            "width": null
          }
        },
        "f44220423d744fa8819691d3050d2be5": {
          "model_module": "@jupyter-widgets/controls",
          "model_name": "DescriptionStyleModel",
          "model_module_version": "1.5.0",
          "state": {
            "_model_module": "@jupyter-widgets/controls",
            "_model_module_version": "1.5.0",
            "_model_name": "DescriptionStyleModel",
            "_view_count": null,
            "_view_module": "@jupyter-widgets/base",
            "_view_module_version": "1.2.0",
            "_view_name": "StyleView",
            "description_width": ""
          }
        },
        "eefb94ad5b5b4b3c8de6ef57473de6a2": {
          "model_module": "@jupyter-widgets/controls",
          "model_name": "HBoxModel",
          "model_module_version": "1.5.0",
          "state": {
            "_dom_classes": [],
            "_model_module": "@jupyter-widgets/controls",
            "_model_module_version": "1.5.0",
            "_model_name": "HBoxModel",
            "_view_count": null,
            "_view_module": "@jupyter-widgets/controls",
            "_view_module_version": "1.5.0",
            "_view_name": "HBoxView",
            "box_style": "",
            "children": [
              "IPY_MODEL_d7a0743701f84c95a20cae9b9d4087d5",
              "IPY_MODEL_c717203e27c7460594b469839b76ca53",
              "IPY_MODEL_6eb4f33f18f3415a8e45c4c45e953162"
            ],
            "layout": "IPY_MODEL_30947277d4a14b228dd6b2420b159ca0"
          }
        },
        "d7a0743701f84c95a20cae9b9d4087d5": {
          "model_module": "@jupyter-widgets/controls",
          "model_name": "HTMLModel",
          "model_module_version": "1.5.0",
          "state": {
            "_dom_classes": [],
            "_model_module": "@jupyter-widgets/controls",
            "_model_module_version": "1.5.0",
            "_model_name": "HTMLModel",
            "_view_count": null,
            "_view_module": "@jupyter-widgets/controls",
            "_view_module_version": "1.5.0",
            "_view_name": "HTMLView",
            "description": "",
            "description_tooltip": null,
            "layout": "IPY_MODEL_25710ad0f0e7460aa56aab78586959d7",
            "placeholder": "​",
            "style": "IPY_MODEL_2a69c9c7aa4a4aec9e61b9186da87c0b",
            "value": "Map: 100%"
          }
        },
        "c717203e27c7460594b469839b76ca53": {
          "model_module": "@jupyter-widgets/controls",
          "model_name": "FloatProgressModel",
          "model_module_version": "1.5.0",
          "state": {
            "_dom_classes": [],
            "_model_module": "@jupyter-widgets/controls",
            "_model_module_version": "1.5.0",
            "_model_name": "FloatProgressModel",
            "_view_count": null,
            "_view_module": "@jupyter-widgets/controls",
            "_view_module_version": "1.5.0",
            "_view_name": "ProgressView",
            "bar_style": "success",
            "description": "",
            "description_tooltip": null,
            "layout": "IPY_MODEL_770d2f3d29d04627a92e2fd44111bd9d",
            "max": 3250,
            "min": 0,
            "orientation": "horizontal",
            "style": "IPY_MODEL_4c43d37063f14373ab406147857c39dd",
            "value": 3250
          }
        },
        "6eb4f33f18f3415a8e45c4c45e953162": {
          "model_module": "@jupyter-widgets/controls",
          "model_name": "HTMLModel",
          "model_module_version": "1.5.0",
          "state": {
            "_dom_classes": [],
            "_model_module": "@jupyter-widgets/controls",
            "_model_module_version": "1.5.0",
            "_model_name": "HTMLModel",
            "_view_count": null,
            "_view_module": "@jupyter-widgets/controls",
            "_view_module_version": "1.5.0",
            "_view_name": "HTMLView",
            "description": "",
            "description_tooltip": null,
            "layout": "IPY_MODEL_14e3500a78754afc93b984b38599c790",
            "placeholder": "​",
            "style": "IPY_MODEL_c8eeba4d3d9b40a8b17ae9a309d7f814",
            "value": " 3250/3250 [00:01&lt;00:00, 2790.01 examples/s]"
          }
        },
        "30947277d4a14b228dd6b2420b159ca0": {
          "model_module": "@jupyter-widgets/base",
          "model_name": "LayoutModel",
          "model_module_version": "1.2.0",
          "state": {
            "_model_module": "@jupyter-widgets/base",
            "_model_module_version": "1.2.0",
            "_model_name": "LayoutModel",
            "_view_count": null,
            "_view_module": "@jupyter-widgets/base",
            "_view_module_version": "1.2.0",
            "_view_name": "LayoutView",
            "align_content": null,
            "align_items": null,
            "align_self": null,
            "border": null,
            "bottom": null,
            "display": null,
            "flex": null,
            "flex_flow": null,
            "grid_area": null,
            "grid_auto_columns": null,
            "grid_auto_flow": null,
            "grid_auto_rows": null,
            "grid_column": null,
            "grid_gap": null,
            "grid_row": null,
            "grid_template_areas": null,
            "grid_template_columns": null,
            "grid_template_rows": null,
            "height": null,
            "justify_content": null,
            "justify_items": null,
            "left": null,
            "margin": null,
            "max_height": null,
            "max_width": null,
            "min_height": null,
            "min_width": null,
            "object_fit": null,
            "object_position": null,
            "order": null,
            "overflow": null,
            "overflow_x": null,
            "overflow_y": null,
            "padding": null,
            "right": null,
            "top": null,
            "visibility": null,
            "width": null
          }
        },
        "25710ad0f0e7460aa56aab78586959d7": {
          "model_module": "@jupyter-widgets/base",
          "model_name": "LayoutModel",
          "model_module_version": "1.2.0",
          "state": {
            "_model_module": "@jupyter-widgets/base",
            "_model_module_version": "1.2.0",
            "_model_name": "LayoutModel",
            "_view_count": null,
            "_view_module": "@jupyter-widgets/base",
            "_view_module_version": "1.2.0",
            "_view_name": "LayoutView",
            "align_content": null,
            "align_items": null,
            "align_self": null,
            "border": null,
            "bottom": null,
            "display": null,
            "flex": null,
            "flex_flow": null,
            "grid_area": null,
            "grid_auto_columns": null,
            "grid_auto_flow": null,
            "grid_auto_rows": null,
            "grid_column": null,
            "grid_gap": null,
            "grid_row": null,
            "grid_template_areas": null,
            "grid_template_columns": null,
            "grid_template_rows": null,
            "height": null,
            "justify_content": null,
            "justify_items": null,
            "left": null,
            "margin": null,
            "max_height": null,
            "max_width": null,
            "min_height": null,
            "min_width": null,
            "object_fit": null,
            "object_position": null,
            "order": null,
            "overflow": null,
            "overflow_x": null,
            "overflow_y": null,
            "padding": null,
            "right": null,
            "top": null,
            "visibility": null,
            "width": null
          }
        },
        "2a69c9c7aa4a4aec9e61b9186da87c0b": {
          "model_module": "@jupyter-widgets/controls",
          "model_name": "DescriptionStyleModel",
          "model_module_version": "1.5.0",
          "state": {
            "_model_module": "@jupyter-widgets/controls",
            "_model_module_version": "1.5.0",
            "_model_name": "DescriptionStyleModel",
            "_view_count": null,
            "_view_module": "@jupyter-widgets/base",
            "_view_module_version": "1.2.0",
            "_view_name": "StyleView",
            "description_width": ""
          }
        },
        "770d2f3d29d04627a92e2fd44111bd9d": {
          "model_module": "@jupyter-widgets/base",
          "model_name": "LayoutModel",
          "model_module_version": "1.2.0",
          "state": {
            "_model_module": "@jupyter-widgets/base",
            "_model_module_version": "1.2.0",
            "_model_name": "LayoutModel",
            "_view_count": null,
            "_view_module": "@jupyter-widgets/base",
            "_view_module_version": "1.2.0",
            "_view_name": "LayoutView",
            "align_content": null,
            "align_items": null,
            "align_self": null,
            "border": null,
            "bottom": null,
            "display": null,
            "flex": null,
            "flex_flow": null,
            "grid_area": null,
            "grid_auto_columns": null,
            "grid_auto_flow": null,
            "grid_auto_rows": null,
            "grid_column": null,
            "grid_gap": null,
            "grid_row": null,
            "grid_template_areas": null,
            "grid_template_columns": null,
            "grid_template_rows": null,
            "height": null,
            "justify_content": null,
            "justify_items": null,
            "left": null,
            "margin": null,
            "max_height": null,
            "max_width": null,
            "min_height": null,
            "min_width": null,
            "object_fit": null,
            "object_position": null,
            "order": null,
            "overflow": null,
            "overflow_x": null,
            "overflow_y": null,
            "padding": null,
            "right": null,
            "top": null,
            "visibility": null,
            "width": null
          }
        },
        "4c43d37063f14373ab406147857c39dd": {
          "model_module": "@jupyter-widgets/controls",
          "model_name": "ProgressStyleModel",
          "model_module_version": "1.5.0",
          "state": {
            "_model_module": "@jupyter-widgets/controls",
            "_model_module_version": "1.5.0",
            "_model_name": "ProgressStyleModel",
            "_view_count": null,
            "_view_module": "@jupyter-widgets/base",
            "_view_module_version": "1.2.0",
            "_view_name": "StyleView",
            "bar_color": null,
            "description_width": ""
          }
        },
        "14e3500a78754afc93b984b38599c790": {
          "model_module": "@jupyter-widgets/base",
          "model_name": "LayoutModel",
          "model_module_version": "1.2.0",
          "state": {
            "_model_module": "@jupyter-widgets/base",
            "_model_module_version": "1.2.0",
            "_model_name": "LayoutModel",
            "_view_count": null,
            "_view_module": "@jupyter-widgets/base",
            "_view_module_version": "1.2.0",
            "_view_name": "LayoutView",
            "align_content": null,
            "align_items": null,
            "align_self": null,
            "border": null,
            "bottom": null,
            "display": null,
            "flex": null,
            "flex_flow": null,
            "grid_area": null,
            "grid_auto_columns": null,
            "grid_auto_flow": null,
            "grid_auto_rows": null,
            "grid_column": null,
            "grid_gap": null,
            "grid_row": null,
            "grid_template_areas": null,
            "grid_template_columns": null,
            "grid_template_rows": null,
            "height": null,
            "justify_content": null,
            "justify_items": null,
            "left": null,
            "margin": null,
            "max_height": null,
            "max_width": null,
            "min_height": null,
            "min_width": null,
            "object_fit": null,
            "object_position": null,
            "order": null,
            "overflow": null,
            "overflow_x": null,
            "overflow_y": null,
            "padding": null,
            "right": null,
            "top": null,
            "visibility": null,
            "width": null
          }
        },
        "c8eeba4d3d9b40a8b17ae9a309d7f814": {
          "model_module": "@jupyter-widgets/controls",
          "model_name": "DescriptionStyleModel",
          "model_module_version": "1.5.0",
          "state": {
            "_model_module": "@jupyter-widgets/controls",
            "_model_module_version": "1.5.0",
            "_model_name": "DescriptionStyleModel",
            "_view_count": null,
            "_view_module": "@jupyter-widgets/base",
            "_view_module_version": "1.2.0",
            "_view_name": "StyleView",
            "description_width": ""
          }
        },
        "b6be5c9b225047db82e76f0ccf91390c": {
          "model_module": "@jupyter-widgets/controls",
          "model_name": "HBoxModel",
          "model_module_version": "1.5.0",
          "state": {
            "_dom_classes": [],
            "_model_module": "@jupyter-widgets/controls",
            "_model_module_version": "1.5.0",
            "_model_name": "HBoxModel",
            "_view_count": null,
            "_view_module": "@jupyter-widgets/controls",
            "_view_module_version": "1.5.0",
            "_view_name": "HBoxView",
            "box_style": "",
            "children": [
              "IPY_MODEL_567024023f524061993a0367ab1687b0",
              "IPY_MODEL_868d36189f9140ccbf52480a5e2a4aa5",
              "IPY_MODEL_e24a05ab0d5e424da9f21eaf9270546f"
            ],
            "layout": "IPY_MODEL_e4a7d0b2d36742518d7c7370bb407f91"
          }
        },
        "567024023f524061993a0367ab1687b0": {
          "model_module": "@jupyter-widgets/controls",
          "model_name": "HTMLModel",
          "model_module_version": "1.5.0",
          "state": {
            "_dom_classes": [],
            "_model_module": "@jupyter-widgets/controls",
            "_model_module_version": "1.5.0",
            "_model_name": "HTMLModel",
            "_view_count": null,
            "_view_module": "@jupyter-widgets/controls",
            "_view_module_version": "1.5.0",
            "_view_name": "HTMLView",
            "description": "",
            "description_tooltip": null,
            "layout": "IPY_MODEL_893e23d0a25e4248bdcc2977787584c5",
            "placeholder": "​",
            "style": "IPY_MODEL_fa1976a7a07b47118bd6055137f6c0e4",
            "value": "Map: 100%"
          }
        },
        "868d36189f9140ccbf52480a5e2a4aa5": {
          "model_module": "@jupyter-widgets/controls",
          "model_name": "FloatProgressModel",
          "model_module_version": "1.5.0",
          "state": {
            "_dom_classes": [],
            "_model_module": "@jupyter-widgets/controls",
            "_model_module_version": "1.5.0",
            "_model_name": "FloatProgressModel",
            "_view_count": null,
            "_view_module": "@jupyter-widgets/controls",
            "_view_module_version": "1.5.0",
            "_view_name": "ProgressView",
            "bar_style": "success",
            "description": "",
            "description_tooltip": null,
            "layout": "IPY_MODEL_770b541a7f244643a5893050582a2cb6",
            "max": 3453,
            "min": 0,
            "orientation": "horizontal",
            "style": "IPY_MODEL_0ab85bc0202a42cb9d2576052709ef4e",
            "value": 3453
          }
        },
        "e24a05ab0d5e424da9f21eaf9270546f": {
          "model_module": "@jupyter-widgets/controls",
          "model_name": "HTMLModel",
          "model_module_version": "1.5.0",
          "state": {
            "_dom_classes": [],
            "_model_module": "@jupyter-widgets/controls",
            "_model_module_version": "1.5.0",
            "_model_name": "HTMLModel",
            "_view_count": null,
            "_view_module": "@jupyter-widgets/controls",
            "_view_module_version": "1.5.0",
            "_view_name": "HTMLView",
            "description": "",
            "description_tooltip": null,
            "layout": "IPY_MODEL_fd3679f9a4104e4cad063ca972d3d202",
            "placeholder": "​",
            "style": "IPY_MODEL_97fda091bb884f41b7557d91eddc0ebc",
            "value": " 3453/3453 [00:03&lt;00:00, 819.94 examples/s]"
          }
        },
        "e4a7d0b2d36742518d7c7370bb407f91": {
          "model_module": "@jupyter-widgets/base",
          "model_name": "LayoutModel",
          "model_module_version": "1.2.0",
          "state": {
            "_model_module": "@jupyter-widgets/base",
            "_model_module_version": "1.2.0",
            "_model_name": "LayoutModel",
            "_view_count": null,
            "_view_module": "@jupyter-widgets/base",
            "_view_module_version": "1.2.0",
            "_view_name": "LayoutView",
            "align_content": null,
            "align_items": null,
            "align_self": null,
            "border": null,
            "bottom": null,
            "display": null,
            "flex": null,
            "flex_flow": null,
            "grid_area": null,
            "grid_auto_columns": null,
            "grid_auto_flow": null,
            "grid_auto_rows": null,
            "grid_column": null,
            "grid_gap": null,
            "grid_row": null,
            "grid_template_areas": null,
            "grid_template_columns": null,
            "grid_template_rows": null,
            "height": null,
            "justify_content": null,
            "justify_items": null,
            "left": null,
            "margin": null,
            "max_height": null,
            "max_width": null,
            "min_height": null,
            "min_width": null,
            "object_fit": null,
            "object_position": null,
            "order": null,
            "overflow": null,
            "overflow_x": null,
            "overflow_y": null,
            "padding": null,
            "right": null,
            "top": null,
            "visibility": null,
            "width": null
          }
        },
        "893e23d0a25e4248bdcc2977787584c5": {
          "model_module": "@jupyter-widgets/base",
          "model_name": "LayoutModel",
          "model_module_version": "1.2.0",
          "state": {
            "_model_module": "@jupyter-widgets/base",
            "_model_module_version": "1.2.0",
            "_model_name": "LayoutModel",
            "_view_count": null,
            "_view_module": "@jupyter-widgets/base",
            "_view_module_version": "1.2.0",
            "_view_name": "LayoutView",
            "align_content": null,
            "align_items": null,
            "align_self": null,
            "border": null,
            "bottom": null,
            "display": null,
            "flex": null,
            "flex_flow": null,
            "grid_area": null,
            "grid_auto_columns": null,
            "grid_auto_flow": null,
            "grid_auto_rows": null,
            "grid_column": null,
            "grid_gap": null,
            "grid_row": null,
            "grid_template_areas": null,
            "grid_template_columns": null,
            "grid_template_rows": null,
            "height": null,
            "justify_content": null,
            "justify_items": null,
            "left": null,
            "margin": null,
            "max_height": null,
            "max_width": null,
            "min_height": null,
            "min_width": null,
            "object_fit": null,
            "object_position": null,
            "order": null,
            "overflow": null,
            "overflow_x": null,
            "overflow_y": null,
            "padding": null,
            "right": null,
            "top": null,
            "visibility": null,
            "width": null
          }
        },
        "fa1976a7a07b47118bd6055137f6c0e4": {
          "model_module": "@jupyter-widgets/controls",
          "model_name": "DescriptionStyleModel",
          "model_module_version": "1.5.0",
          "state": {
            "_model_module": "@jupyter-widgets/controls",
            "_model_module_version": "1.5.0",
            "_model_name": "DescriptionStyleModel",
            "_view_count": null,
            "_view_module": "@jupyter-widgets/base",
            "_view_module_version": "1.2.0",
            "_view_name": "StyleView",
            "description_width": ""
          }
        },
        "770b541a7f244643a5893050582a2cb6": {
          "model_module": "@jupyter-widgets/base",
          "model_name": "LayoutModel",
          "model_module_version": "1.2.0",
          "state": {
            "_model_module": "@jupyter-widgets/base",
            "_model_module_version": "1.2.0",
            "_model_name": "LayoutModel",
            "_view_count": null,
            "_view_module": "@jupyter-widgets/base",
            "_view_module_version": "1.2.0",
            "_view_name": "LayoutView",
            "align_content": null,
            "align_items": null,
            "align_self": null,
            "border": null,
            "bottom": null,
            "display": null,
            "flex": null,
            "flex_flow": null,
            "grid_area": null,
            "grid_auto_columns": null,
            "grid_auto_flow": null,
            "grid_auto_rows": null,
            "grid_column": null,
            "grid_gap": null,
            "grid_row": null,
            "grid_template_areas": null,
            "grid_template_columns": null,
            "grid_template_rows": null,
            "height": null,
            "justify_content": null,
            "justify_items": null,
            "left": null,
            "margin": null,
            "max_height": null,
            "max_width": null,
            "min_height": null,
            "min_width": null,
            "object_fit": null,
            "object_position": null,
            "order": null,
            "overflow": null,
            "overflow_x": null,
            "overflow_y": null,
            "padding": null,
            "right": null,
            "top": null,
            "visibility": null,
            "width": null
          }
        },
        "0ab85bc0202a42cb9d2576052709ef4e": {
          "model_module": "@jupyter-widgets/controls",
          "model_name": "ProgressStyleModel",
          "model_module_version": "1.5.0",
          "state": {
            "_model_module": "@jupyter-widgets/controls",
            "_model_module_version": "1.5.0",
            "_model_name": "ProgressStyleModel",
            "_view_count": null,
            "_view_module": "@jupyter-widgets/base",
            "_view_module_version": "1.2.0",
            "_view_name": "StyleView",
            "bar_color": null,
            "description_width": ""
          }
        },
        "fd3679f9a4104e4cad063ca972d3d202": {
          "model_module": "@jupyter-widgets/base",
          "model_name": "LayoutModel",
          "model_module_version": "1.2.0",
          "state": {
            "_model_module": "@jupyter-widgets/base",
            "_model_module_version": "1.2.0",
            "_model_name": "LayoutModel",
            "_view_count": null,
            "_view_module": "@jupyter-widgets/base",
            "_view_module_version": "1.2.0",
            "_view_name": "LayoutView",
            "align_content": null,
            "align_items": null,
            "align_self": null,
            "border": null,
            "bottom": null,
            "display": null,
            "flex": null,
            "flex_flow": null,
            "grid_area": null,
            "grid_auto_columns": null,
            "grid_auto_flow": null,
            "grid_auto_rows": null,
            "grid_column": null,
            "grid_gap": null,
            "grid_row": null,
            "grid_template_areas": null,
            "grid_template_columns": null,
            "grid_template_rows": null,
            "height": null,
            "justify_content": null,
            "justify_items": null,
            "left": null,
            "margin": null,
            "max_height": null,
            "max_width": null,
            "min_height": null,
            "min_width": null,
            "object_fit": null,
            "object_position": null,
            "order": null,
            "overflow": null,
            "overflow_x": null,
            "overflow_y": null,
            "padding": null,
            "right": null,
            "top": null,
            "visibility": null,
            "width": null
          }
        },
        "97fda091bb884f41b7557d91eddc0ebc": {
          "model_module": "@jupyter-widgets/controls",
          "model_name": "DescriptionStyleModel",
          "model_module_version": "1.5.0",
          "state": {
            "_model_module": "@jupyter-widgets/controls",
            "_model_module_version": "1.5.0",
            "_model_name": "DescriptionStyleModel",
            "_view_count": null,
            "_view_module": "@jupyter-widgets/base",
            "_view_module_version": "1.2.0",
            "_view_name": "StyleView",
            "description_width": ""
          }
        },
        "150ae20294db4294b80ebf295c56149d": {
          "model_module": "@jupyter-widgets/controls",
          "model_name": "HBoxModel",
          "model_module_version": "1.5.0",
          "state": {
            "_dom_classes": [],
            "_model_module": "@jupyter-widgets/controls",
            "_model_module_version": "1.5.0",
            "_model_name": "HBoxModel",
            "_view_count": null,
            "_view_module": "@jupyter-widgets/controls",
            "_view_module_version": "1.5.0",
            "_view_name": "HBoxView",
            "box_style": "",
            "children": [
              "IPY_MODEL_72f65317604c44828eaf231884ae5d8d",
              "IPY_MODEL_8d10aa27d54741698b2743937b8f477e",
              "IPY_MODEL_ff5cfd48d5d54c5c9c61454f6f1a259b"
            ],
            "layout": "IPY_MODEL_160f50b25d8447b78ff2c26c3bd56321"
          }
        },
        "72f65317604c44828eaf231884ae5d8d": {
          "model_module": "@jupyter-widgets/controls",
          "model_name": "HTMLModel",
          "model_module_version": "1.5.0",
          "state": {
            "_dom_classes": [],
            "_model_module": "@jupyter-widgets/controls",
            "_model_module_version": "1.5.0",
            "_model_name": "HTMLModel",
            "_view_count": null,
            "_view_module": "@jupyter-widgets/controls",
            "_view_module_version": "1.5.0",
            "_view_name": "HTMLView",
            "description": "",
            "description_tooltip": null,
            "layout": "IPY_MODEL_83e8599a0b604b479f727a9c817ad242",
            "placeholder": "​",
            "style": "IPY_MODEL_0567471fea4d4dc294664b5f21c5478b",
            "value": "Downloading model.safetensors: 100%"
          }
        },
        "8d10aa27d54741698b2743937b8f477e": {
          "model_module": "@jupyter-widgets/controls",
          "model_name": "FloatProgressModel",
          "model_module_version": "1.5.0",
          "state": {
            "_dom_classes": [],
            "_model_module": "@jupyter-widgets/controls",
            "_model_module_version": "1.5.0",
            "_model_name": "FloatProgressModel",
            "_view_count": null,
            "_view_module": "@jupyter-widgets/controls",
            "_view_module_version": "1.5.0",
            "_view_name": "ProgressView",
            "bar_style": "success",
            "description": "",
            "description_tooltip": null,
            "layout": "IPY_MODEL_d8de6f96e26a4360aa0fb269d9d2f4ee",
            "max": 498818054,
            "min": 0,
            "orientation": "horizontal",
            "style": "IPY_MODEL_4033e485a48042058fe668eb9e4a166d",
            "value": 498818054
          }
        },
        "ff5cfd48d5d54c5c9c61454f6f1a259b": {
          "model_module": "@jupyter-widgets/controls",
          "model_name": "HTMLModel",
          "model_module_version": "1.5.0",
          "state": {
            "_dom_classes": [],
            "_model_module": "@jupyter-widgets/controls",
            "_model_module_version": "1.5.0",
            "_model_name": "HTMLModel",
            "_view_count": null,
            "_view_module": "@jupyter-widgets/controls",
            "_view_module_version": "1.5.0",
            "_view_name": "HTMLView",
            "description": "",
            "description_tooltip": null,
            "layout": "IPY_MODEL_95b106ecc4014e998329abe64bda31b7",
            "placeholder": "​",
            "style": "IPY_MODEL_afc804c480c04bf9937e4fc49cef3143",
            "value": " 499M/499M [00:06&lt;00:00, 103MB/s]"
          }
        },
        "160f50b25d8447b78ff2c26c3bd56321": {
          "model_module": "@jupyter-widgets/base",
          "model_name": "LayoutModel",
          "model_module_version": "1.2.0",
          "state": {
            "_model_module": "@jupyter-widgets/base",
            "_model_module_version": "1.2.0",
            "_model_name": "LayoutModel",
            "_view_count": null,
            "_view_module": "@jupyter-widgets/base",
            "_view_module_version": "1.2.0",
            "_view_name": "LayoutView",
            "align_content": null,
            "align_items": null,
            "align_self": null,
            "border": null,
            "bottom": null,
            "display": null,
            "flex": null,
            "flex_flow": null,
            "grid_area": null,
            "grid_auto_columns": null,
            "grid_auto_flow": null,
            "grid_auto_rows": null,
            "grid_column": null,
            "grid_gap": null,
            "grid_row": null,
            "grid_template_areas": null,
            "grid_template_columns": null,
            "grid_template_rows": null,
            "height": null,
            "justify_content": null,
            "justify_items": null,
            "left": null,
            "margin": null,
            "max_height": null,
            "max_width": null,
            "min_height": null,
            "min_width": null,
            "object_fit": null,
            "object_position": null,
            "order": null,
            "overflow": null,
            "overflow_x": null,
            "overflow_y": null,
            "padding": null,
            "right": null,
            "top": null,
            "visibility": null,
            "width": null
          }
        },
        "83e8599a0b604b479f727a9c817ad242": {
          "model_module": "@jupyter-widgets/base",
          "model_name": "LayoutModel",
          "model_module_version": "1.2.0",
          "state": {
            "_model_module": "@jupyter-widgets/base",
            "_model_module_version": "1.2.0",
            "_model_name": "LayoutModel",
            "_view_count": null,
            "_view_module": "@jupyter-widgets/base",
            "_view_module_version": "1.2.0",
            "_view_name": "LayoutView",
            "align_content": null,
            "align_items": null,
            "align_self": null,
            "border": null,
            "bottom": null,
            "display": null,
            "flex": null,
            "flex_flow": null,
            "grid_area": null,
            "grid_auto_columns": null,
            "grid_auto_flow": null,
            "grid_auto_rows": null,
            "grid_column": null,
            "grid_gap": null,
            "grid_row": null,
            "grid_template_areas": null,
            "grid_template_columns": null,
            "grid_template_rows": null,
            "height": null,
            "justify_content": null,
            "justify_items": null,
            "left": null,
            "margin": null,
            "max_height": null,
            "max_width": null,
            "min_height": null,
            "min_width": null,
            "object_fit": null,
            "object_position": null,
            "order": null,
            "overflow": null,
            "overflow_x": null,
            "overflow_y": null,
            "padding": null,
            "right": null,
            "top": null,
            "visibility": null,
            "width": null
          }
        },
        "0567471fea4d4dc294664b5f21c5478b": {
          "model_module": "@jupyter-widgets/controls",
          "model_name": "DescriptionStyleModel",
          "model_module_version": "1.5.0",
          "state": {
            "_model_module": "@jupyter-widgets/controls",
            "_model_module_version": "1.5.0",
            "_model_name": "DescriptionStyleModel",
            "_view_count": null,
            "_view_module": "@jupyter-widgets/base",
            "_view_module_version": "1.2.0",
            "_view_name": "StyleView",
            "description_width": ""
          }
        },
        "d8de6f96e26a4360aa0fb269d9d2f4ee": {
          "model_module": "@jupyter-widgets/base",
          "model_name": "LayoutModel",
          "model_module_version": "1.2.0",
          "state": {
            "_model_module": "@jupyter-widgets/base",
            "_model_module_version": "1.2.0",
            "_model_name": "LayoutModel",
            "_view_count": null,
            "_view_module": "@jupyter-widgets/base",
            "_view_module_version": "1.2.0",
            "_view_name": "LayoutView",
            "align_content": null,
            "align_items": null,
            "align_self": null,
            "border": null,
            "bottom": null,
            "display": null,
            "flex": null,
            "flex_flow": null,
            "grid_area": null,
            "grid_auto_columns": null,
            "grid_auto_flow": null,
            "grid_auto_rows": null,
            "grid_column": null,
            "grid_gap": null,
            "grid_row": null,
            "grid_template_areas": null,
            "grid_template_columns": null,
            "grid_template_rows": null,
            "height": null,
            "justify_content": null,
            "justify_items": null,
            "left": null,
            "margin": null,
            "max_height": null,
            "max_width": null,
            "min_height": null,
            "min_width": null,
            "object_fit": null,
            "object_position": null,
            "order": null,
            "overflow": null,
            "overflow_x": null,
            "overflow_y": null,
            "padding": null,
            "right": null,
            "top": null,
            "visibility": null,
            "width": null
          }
        },
        "4033e485a48042058fe668eb9e4a166d": {
          "model_module": "@jupyter-widgets/controls",
          "model_name": "ProgressStyleModel",
          "model_module_version": "1.5.0",
          "state": {
            "_model_module": "@jupyter-widgets/controls",
            "_model_module_version": "1.5.0",
            "_model_name": "ProgressStyleModel",
            "_view_count": null,
            "_view_module": "@jupyter-widgets/base",
            "_view_module_version": "1.2.0",
            "_view_name": "StyleView",
            "bar_color": null,
            "description_width": ""
          }
        },
        "95b106ecc4014e998329abe64bda31b7": {
          "model_module": "@jupyter-widgets/base",
          "model_name": "LayoutModel",
          "model_module_version": "1.2.0",
          "state": {
            "_model_module": "@jupyter-widgets/base",
            "_model_module_version": "1.2.0",
            "_model_name": "LayoutModel",
            "_view_count": null,
            "_view_module": "@jupyter-widgets/base",
            "_view_module_version": "1.2.0",
            "_view_name": "LayoutView",
            "align_content": null,
            "align_items": null,
            "align_self": null,
            "border": null,
            "bottom": null,
            "display": null,
            "flex": null,
            "flex_flow": null,
            "grid_area": null,
            "grid_auto_columns": null,
            "grid_auto_flow": null,
            "grid_auto_rows": null,
            "grid_column": null,
            "grid_gap": null,
            "grid_row": null,
            "grid_template_areas": null,
            "grid_template_columns": null,
            "grid_template_rows": null,
            "height": null,
            "justify_content": null,
            "justify_items": null,
            "left": null,
            "margin": null,
            "max_height": null,
            "max_width": null,
            "min_height": null,
            "min_width": null,
            "object_fit": null,
            "object_position": null,
            "order": null,
            "overflow": null,
            "overflow_x": null,
            "overflow_y": null,
            "padding": null,
            "right": null,
            "top": null,
            "visibility": null,
            "width": null
          }
        },
        "afc804c480c04bf9937e4fc49cef3143": {
          "model_module": "@jupyter-widgets/controls",
          "model_name": "DescriptionStyleModel",
          "model_module_version": "1.5.0",
          "state": {
            "_model_module": "@jupyter-widgets/controls",
            "_model_module_version": "1.5.0",
            "_model_name": "DescriptionStyleModel",
            "_view_count": null,
            "_view_module": "@jupyter-widgets/base",
            "_view_module_version": "1.2.0",
            "_view_name": "StyleView",
            "description_width": ""
          }
        },
        "1cdb513528dd41b09eb70da14618e488": {
          "model_module": "@jupyter-widgets/controls",
          "model_name": "HBoxModel",
          "model_module_version": "1.5.0",
          "state": {
            "_dom_classes": [],
            "_model_module": "@jupyter-widgets/controls",
            "_model_module_version": "1.5.0",
            "_model_name": "HBoxModel",
            "_view_count": null,
            "_view_module": "@jupyter-widgets/controls",
            "_view_module_version": "1.5.0",
            "_view_name": "HBoxView",
            "box_style": "",
            "children": [
              "IPY_MODEL_2683f9769eda42bdbcc9e0759a45be57",
              "IPY_MODEL_2f1d35a931314d6a911d9d7e84057dea",
              "IPY_MODEL_7af0d6de01dd4061bd532f7f944a1b54"
            ],
            "layout": "IPY_MODEL_b982edecd50348ba81b700234403064d"
          }
        },
        "2683f9769eda42bdbcc9e0759a45be57": {
          "model_module": "@jupyter-widgets/controls",
          "model_name": "HTMLModel",
          "model_module_version": "1.5.0",
          "state": {
            "_dom_classes": [],
            "_model_module": "@jupyter-widgets/controls",
            "_model_module_version": "1.5.0",
            "_model_name": "HTMLModel",
            "_view_count": null,
            "_view_module": "@jupyter-widgets/controls",
            "_view_module_version": "1.5.0",
            "_view_name": "HTMLView",
            "description": "",
            "description_tooltip": null,
            "layout": "IPY_MODEL_8bda7daebcd34c9cb8d4249bddbb693b",
            "placeholder": "​",
            "style": "IPY_MODEL_7ee8e824d5954b3b83248db6cc395b05",
            "value": "Downloading builder script: 100%"
          }
        },
        "2f1d35a931314d6a911d9d7e84057dea": {
          "model_module": "@jupyter-widgets/controls",
          "model_name": "FloatProgressModel",
          "model_module_version": "1.5.0",
          "state": {
            "_dom_classes": [],
            "_model_module": "@jupyter-widgets/controls",
            "_model_module_version": "1.5.0",
            "_model_name": "FloatProgressModel",
            "_view_count": null,
            "_view_module": "@jupyter-widgets/controls",
            "_view_module_version": "1.5.0",
            "_view_name": "ProgressView",
            "bar_style": "success",
            "description": "",
            "description_tooltip": null,
            "layout": "IPY_MODEL_6a3ddf6607494c10bc1eba754fd8baf4",
            "max": 6338,
            "min": 0,
            "orientation": "horizontal",
            "style": "IPY_MODEL_73368e3c5d304020888737f03646fbfe",
            "value": 6338
          }
        },
        "7af0d6de01dd4061bd532f7f944a1b54": {
          "model_module": "@jupyter-widgets/controls",
          "model_name": "HTMLModel",
          "model_module_version": "1.5.0",
          "state": {
            "_dom_classes": [],
            "_model_module": "@jupyter-widgets/controls",
            "_model_module_version": "1.5.0",
            "_model_name": "HTMLModel",
            "_view_count": null,
            "_view_module": "@jupyter-widgets/controls",
            "_view_module_version": "1.5.0",
            "_view_name": "HTMLView",
            "description": "",
            "description_tooltip": null,
            "layout": "IPY_MODEL_0d009c4886ab46cabd3d9e5672c4c86f",
            "placeholder": "​",
            "style": "IPY_MODEL_09e887d5931b4d56af6673840f747aef",
            "value": " 6.34k/6.34k [00:00&lt;00:00, 183kB/s]"
          }
        },
        "b982edecd50348ba81b700234403064d": {
          "model_module": "@jupyter-widgets/base",
          "model_name": "LayoutModel",
          "model_module_version": "1.2.0",
          "state": {
            "_model_module": "@jupyter-widgets/base",
            "_model_module_version": "1.2.0",
            "_model_name": "LayoutModel",
            "_view_count": null,
            "_view_module": "@jupyter-widgets/base",
            "_view_module_version": "1.2.0",
            "_view_name": "LayoutView",
            "align_content": null,
            "align_items": null,
            "align_self": null,
            "border": null,
            "bottom": null,
            "display": null,
            "flex": null,
            "flex_flow": null,
            "grid_area": null,
            "grid_auto_columns": null,
            "grid_auto_flow": null,
            "grid_auto_rows": null,
            "grid_column": null,
            "grid_gap": null,
            "grid_row": null,
            "grid_template_areas": null,
            "grid_template_columns": null,
            "grid_template_rows": null,
            "height": null,
            "justify_content": null,
            "justify_items": null,
            "left": null,
            "margin": null,
            "max_height": null,
            "max_width": null,
            "min_height": null,
            "min_width": null,
            "object_fit": null,
            "object_position": null,
            "order": null,
            "overflow": null,
            "overflow_x": null,
            "overflow_y": null,
            "padding": null,
            "right": null,
            "top": null,
            "visibility": null,
            "width": null
          }
        },
        "8bda7daebcd34c9cb8d4249bddbb693b": {
          "model_module": "@jupyter-widgets/base",
          "model_name": "LayoutModel",
          "model_module_version": "1.2.0",
          "state": {
            "_model_module": "@jupyter-widgets/base",
            "_model_module_version": "1.2.0",
            "_model_name": "LayoutModel",
            "_view_count": null,
            "_view_module": "@jupyter-widgets/base",
            "_view_module_version": "1.2.0",
            "_view_name": "LayoutView",
            "align_content": null,
            "align_items": null,
            "align_self": null,
            "border": null,
            "bottom": null,
            "display": null,
            "flex": null,
            "flex_flow": null,
            "grid_area": null,
            "grid_auto_columns": null,
            "grid_auto_flow": null,
            "grid_auto_rows": null,
            "grid_column": null,
            "grid_gap": null,
            "grid_row": null,
            "grid_template_areas": null,
            "grid_template_columns": null,
            "grid_template_rows": null,
            "height": null,
            "justify_content": null,
            "justify_items": null,
            "left": null,
            "margin": null,
            "max_height": null,
            "max_width": null,
            "min_height": null,
            "min_width": null,
            "object_fit": null,
            "object_position": null,
            "order": null,
            "overflow": null,
            "overflow_x": null,
            "overflow_y": null,
            "padding": null,
            "right": null,
            "top": null,
            "visibility": null,
            "width": null
          }
        },
        "7ee8e824d5954b3b83248db6cc395b05": {
          "model_module": "@jupyter-widgets/controls",
          "model_name": "DescriptionStyleModel",
          "model_module_version": "1.5.0",
          "state": {
            "_model_module": "@jupyter-widgets/controls",
            "_model_module_version": "1.5.0",
            "_model_name": "DescriptionStyleModel",
            "_view_count": null,
            "_view_module": "@jupyter-widgets/base",
            "_view_module_version": "1.2.0",
            "_view_name": "StyleView",
            "description_width": ""
          }
        },
        "6a3ddf6607494c10bc1eba754fd8baf4": {
          "model_module": "@jupyter-widgets/base",
          "model_name": "LayoutModel",
          "model_module_version": "1.2.0",
          "state": {
            "_model_module": "@jupyter-widgets/base",
            "_model_module_version": "1.2.0",
            "_model_name": "LayoutModel",
            "_view_count": null,
            "_view_module": "@jupyter-widgets/base",
            "_view_module_version": "1.2.0",
            "_view_name": "LayoutView",
            "align_content": null,
            "align_items": null,
            "align_self": null,
            "border": null,
            "bottom": null,
            "display": null,
            "flex": null,
            "flex_flow": null,
            "grid_area": null,
            "grid_auto_columns": null,
            "grid_auto_flow": null,
            "grid_auto_rows": null,
            "grid_column": null,
            "grid_gap": null,
            "grid_row": null,
            "grid_template_areas": null,
            "grid_template_columns": null,
            "grid_template_rows": null,
            "height": null,
            "justify_content": null,
            "justify_items": null,
            "left": null,
            "margin": null,
            "max_height": null,
            "max_width": null,
            "min_height": null,
            "min_width": null,
            "object_fit": null,
            "object_position": null,
            "order": null,
            "overflow": null,
            "overflow_x": null,
            "overflow_y": null,
            "padding": null,
            "right": null,
            "top": null,
            "visibility": null,
            "width": null
          }
        },
        "73368e3c5d304020888737f03646fbfe": {
          "model_module": "@jupyter-widgets/controls",
          "model_name": "ProgressStyleModel",
          "model_module_version": "1.5.0",
          "state": {
            "_model_module": "@jupyter-widgets/controls",
            "_model_module_version": "1.5.0",
            "_model_name": "ProgressStyleModel",
            "_view_count": null,
            "_view_module": "@jupyter-widgets/base",
            "_view_module_version": "1.2.0",
            "_view_name": "StyleView",
            "bar_color": null,
            "description_width": ""
          }
        },
        "0d009c4886ab46cabd3d9e5672c4c86f": {
          "model_module": "@jupyter-widgets/base",
          "model_name": "LayoutModel",
          "model_module_version": "1.2.0",
          "state": {
            "_model_module": "@jupyter-widgets/base",
            "_model_module_version": "1.2.0",
            "_model_name": "LayoutModel",
            "_view_count": null,
            "_view_module": "@jupyter-widgets/base",
            "_view_module_version": "1.2.0",
            "_view_name": "LayoutView",
            "align_content": null,
            "align_items": null,
            "align_self": null,
            "border": null,
            "bottom": null,
            "display": null,
            "flex": null,
            "flex_flow": null,
            "grid_area": null,
            "grid_auto_columns": null,
            "grid_auto_flow": null,
            "grid_auto_rows": null,
            "grid_column": null,
            "grid_gap": null,
            "grid_row": null,
            "grid_template_areas": null,
            "grid_template_columns": null,
            "grid_template_rows": null,
            "height": null,
            "justify_content": null,
            "justify_items": null,
            "left": null,
            "margin": null,
            "max_height": null,
            "max_width": null,
            "min_height": null,
            "min_width": null,
            "object_fit": null,
            "object_position": null,
            "order": null,
            "overflow": null,
            "overflow_x": null,
            "overflow_y": null,
            "padding": null,
            "right": null,
            "top": null,
            "visibility": null,
            "width": null
          }
        },
        "09e887d5931b4d56af6673840f747aef": {
          "model_module": "@jupyter-widgets/controls",
          "model_name": "DescriptionStyleModel",
          "model_module_version": "1.5.0",
          "state": {
            "_model_module": "@jupyter-widgets/controls",
            "_model_module_version": "1.5.0",
            "_model_name": "DescriptionStyleModel",
            "_view_count": null,
            "_view_module": "@jupyter-widgets/base",
            "_view_module_version": "1.2.0",
            "_view_name": "StyleView",
            "description_width": ""
          }
        }
      }
    }
  },
  "cells": [
    {
      "cell_type": "markdown",
      "metadata": {
        "id": "view-in-github",
        "colab_type": "text"
      },
      "source": [
        "<a href=\"https://colab.research.google.com/github/Jorgecardetegit/NLP/blob/main/Named_Entity_Recognition_with_HuggingFace_%F0%9F%A4%97.ipynb\" target=\"_parent\"><img src=\"https://colab.research.google.com/assets/colab-badge.svg\" alt=\"Open In Colab\"/></a>"
      ]
    },
    {
      "cell_type": "markdown",
      "source": [
        "# **Named Entity Recognition**\n",
        "\n",
        "### **Problem Understanding**\n",
        "\n",
        "Named Entity Recognition (NER) is a sub-task of Information Extraction that classifies named entities into predefined categories such as the names of persons, organizations, locations, expressions of times, quantities, monetary values, percentages, etc.\n",
        "\n",
        "The primary purpose of NER is to locate and classify named entities mentioned in unstructured text into pre-defined categories like person names, organizations, locations, medical codes, time expressions, quantities, monetary values, percentages, etc.\n",
        "\n",
        "NER is used in various natural language processing applications including but not limited to:\n",
        "- Information Retrieval\n",
        "- Machine Translation\n",
        "- Question Answering\n",
        "- Coreference Resolution\n",
        "- Relation Extraction\n",
        "- Event Extraction\n",
        "- Sentiment Analysis\n",
        "\n",
        "### **Dataset (conll2003)**\n",
        "The data will be extracted from the famous HuggingFace dataset **Conll2003**.\n",
        "\n",
        "The shared task of CoNLL-2003 concerns language-independent named entity recognition. It concentrates on four types of named entities: persons, locations, organizations and names of miscellaneous entities that do not belong to the previous three groups.\n",
        "\n",
        "The dataset contain four columns separated by a single space. Each word has been put on a separate line and there is an empty line after each sentence.\n",
        "\n",
        "- The first item on each line is a word.\n",
        "\n",
        "- The second a part-of-speech (POS) tag.\n",
        "\n",
        "- The third a syntactic chunk tag.\n",
        "\n",
        "- The fourth the named entity tag.\n",
        "\n",
        "The chunk tags and the named entity tags have the format **I-TYPE** which means that the word is inside a phrase of type TYPE. Only if two phrases of the same type immediately follow each other, the first word of the second phrase will have tag **B-TYPE** to show that it starts a new phrase. A word with tag **O** is not part of a phrase.\n",
        "\n",
        "In this analysis we will only focus on the fourth column (ner_tags).\n",
        "\n",
        "#### **ner_tags example**\n",
        "\n",
        "My cousin Alexander likes Manhattan.\n",
        "\n",
        "![image.png](data:image/png;base64,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)\n",
        "\n",
        "My cousing Alex ander likes Manha ttan.\n",
        "\n",
        "![image.png](data:image/png;base64,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)\n"
      ],
      "metadata": {
        "id": "LeY5kqfFoBiY"
      }
    },
    {
      "cell_type": "markdown",
      "source": [
        "# 1. Libraries and installing dependencies"
      ],
      "metadata": {
        "id": "uBpUtLVcUMBs"
      }
    },
    {
      "cell_type": "code",
      "source": [
        "import importlib.util\n",
        "\n",
        "# Function to check if a library is installed\n",
        "def is_library_installed(name):\n",
        "    spec = importlib.util.find_spec(name)\n",
        "    return spec is not None\n",
        "\n",
        "# Check if both 'transformers' and 'datasets' are installed\n",
        "if not is_library_installed('transformers') or not is_library_installed('datasets') or not is_library_installed('seqeval') or not is_library_installed('evaluate'):\n",
        "    !pip install transformers datasets evaluate seqeval"
      ],
      "metadata": {
        "id": "yQDH4nH_ULe1"
      },
      "execution_count": null,
      "outputs": []
    },
    {
      "cell_type": "code",
      "source": [
        "import tensorflow as tf### models\n",
        "import numpy as np### math computations\n",
        "import matplotlib.pyplot as plt### plotting bar chart\n",
        "import sklearn### machine learning library\n",
        "import cv2## image processing\n",
        "from sklearn.metrics import confusion_matrix, roc_curve### metrics\n",
        "import seaborn as sns### visualizations\n",
        "import datetime\n",
        "import pathlib\n",
        "import io\n",
        "import os\n",
        "import re\n",
        "import string\n",
        "import evaluate\n",
        "import time\n",
        "from numpy import random\n",
        "import gensim.downloader as api\n",
        "from PIL import Image\n",
        "import tensorflow_datasets as tfds\n",
        "import tensorflow_probability as tfp\n",
        "from tensorflow.keras.models import Model\n",
        "from tensorflow.keras.layers import Layer\n",
        "from tensorflow.keras.layers import Dense,Flatten,InputLayer,BatchNormalization,Dropout,Input,LayerNormalization\n",
        "from tensorflow.keras.losses import BinaryCrossentropy,CategoricalCrossentropy, SparseCategoricalCrossentropy\n",
        "from tensorflow.keras.metrics import Accuracy,TopKCategoricalAccuracy, CategoricalAccuracy, SparseCategoricalAccuracy\n",
        "from tensorflow.keras.optimizers import Adam\n",
        "from google.colab import drive\n",
        "from google.colab import files\n",
        "from datasets import load_dataset\n",
        "from transformers import (BertTokenizerFast,TFBertTokenizer,BertTokenizer,RobertaTokenizerFast,DataCollatorForTokenClassification,\n",
        "                          DataCollatorWithPadding,TFRobertaForSequenceClassification,TFBertForSequenceClassification,\n",
        "                          TFBertModel,create_optimizer,TFRobertaForTokenClassification,TFAutoModelForTokenClassification,)\n",
        ""
      ],
      "metadata": {
        "id": "Z_2_Iq4QoEM3"
      },
      "execution_count": 11,
      "outputs": []
    },
    {
      "cell_type": "markdown",
      "source": [
        "# 2. Loading dataset"
      ],
      "metadata": {
        "id": "XlaIFVPOUgyd"
      }
    },
    {
      "cell_type": "code",
      "source": [
        "dataset_id = \"conll2003\"\n",
        "dataset = load_dataset(dataset_id)"
      ],
      "metadata": {
        "id": "ql34AKDBUgXV"
      },
      "execution_count": null,
      "outputs": []
    },
    {
      "cell_type": "markdown",
      "source": [
        "# 3. Basic EDA"
      ],
      "metadata": {
        "id": "BWfQcvxyU7Bm"
      }
    },
    {
      "cell_type": "code",
      "source": [
        "print(dataset)\n",
        "print(f\"\\nStructure of the train dataset: {type(dataset['train'])}\")"
      ],
      "metadata": {
        "colab": {
          "base_uri": "https://localhost:8080/"
        },
        "id": "2sT5jIXZUgZ4",
        "outputId": "35e9e161-8ae8-4c22-cfa9-840cc85fb476"
      },
      "execution_count": 20,
      "outputs": [
        {
          "output_type": "stream",
          "name": "stdout",
          "text": [
            "DatasetDict({\n",
            "    train: Dataset({\n",
            "        features: ['id', 'tokens', 'pos_tags', 'chunk_tags', 'ner_tags'],\n",
            "        num_rows: 14041\n",
            "    })\n",
            "    validation: Dataset({\n",
            "        features: ['id', 'tokens', 'pos_tags', 'chunk_tags', 'ner_tags'],\n",
            "        num_rows: 3250\n",
            "    })\n",
            "    test: Dataset({\n",
            "        features: ['id', 'tokens', 'pos_tags', 'chunk_tags', 'ner_tags'],\n",
            "        num_rows: 3453\n",
            "    })\n",
            "})\n",
            "\n",
            "Structure of the train dataset: <class 'datasets.arrow_dataset.Dataset'>\n"
          ]
        }
      ]
    },
    {
      "cell_type": "code",
      "source": [
        "for line in dataset['train'].select([0, 1, 2, 3, 4]):\n",
        "  print(line)"
      ],
      "metadata": {
        "colab": {
          "base_uri": "https://localhost:8080/"
        },
        "id": "yEWB7og3Ugb0",
        "outputId": "611ef926-9f0a-4b7f-9807-938cba748195"
      },
      "execution_count": 21,
      "outputs": [
        {
          "output_type": "stream",
          "name": "stdout",
          "text": [
            "{'id': '0', 'tokens': ['EU', 'rejects', 'German', 'call', 'to', 'boycott', 'British', 'lamb', '.'], 'pos_tags': [22, 42, 16, 21, 35, 37, 16, 21, 7], 'chunk_tags': [11, 21, 11, 12, 21, 22, 11, 12, 0], 'ner_tags': [3, 0, 7, 0, 0, 0, 7, 0, 0]}\n",
            "{'id': '1', 'tokens': ['Peter', 'Blackburn'], 'pos_tags': [22, 22], 'chunk_tags': [11, 12], 'ner_tags': [1, 2]}\n",
            "{'id': '2', 'tokens': ['BRUSSELS', '1996-08-22'], 'pos_tags': [22, 11], 'chunk_tags': [11, 12], 'ner_tags': [5, 0]}\n",
            "{'id': '3', 'tokens': ['The', 'European', 'Commission', 'said', 'on', 'Thursday', 'it', 'disagreed', 'with', 'German', 'advice', 'to', 'consumers', 'to', 'shun', 'British', 'lamb', 'until', 'scientists', 'determine', 'whether', 'mad', 'cow', 'disease', 'can', 'be', 'transmitted', 'to', 'sheep', '.'], 'pos_tags': [12, 22, 22, 38, 15, 22, 28, 38, 15, 16, 21, 35, 24, 35, 37, 16, 21, 15, 24, 41, 15, 16, 21, 21, 20, 37, 40, 35, 21, 7], 'chunk_tags': [11, 12, 12, 21, 13, 11, 11, 21, 13, 11, 12, 13, 11, 21, 22, 11, 12, 17, 11, 21, 17, 11, 12, 12, 21, 22, 22, 13, 11, 0], 'ner_tags': [0, 3, 4, 0, 0, 0, 0, 0, 0, 7, 0, 0, 0, 0, 0, 7, 0, 0, 0, 0, 0, 0, 0, 0, 0, 0, 0, 0, 0, 0]}\n",
            "{'id': '4', 'tokens': ['Germany', \"'s\", 'representative', 'to', 'the', 'European', 'Union', \"'s\", 'veterinary', 'committee', 'Werner', 'Zwingmann', 'said', 'on', 'Wednesday', 'consumers', 'should', 'buy', 'sheepmeat', 'from', 'countries', 'other', 'than', 'Britain', 'until', 'the', 'scientific', 'advice', 'was', 'clearer', '.'], 'pos_tags': [22, 27, 21, 35, 12, 22, 22, 27, 16, 21, 22, 22, 38, 15, 22, 24, 20, 37, 21, 15, 24, 16, 15, 22, 15, 12, 16, 21, 38, 17, 7], 'chunk_tags': [11, 11, 12, 13, 11, 12, 12, 11, 12, 12, 12, 12, 21, 13, 11, 12, 21, 22, 11, 13, 11, 1, 13, 11, 17, 11, 12, 12, 21, 1, 0], 'ner_tags': [5, 0, 0, 0, 0, 3, 4, 0, 0, 0, 1, 2, 0, 0, 0, 0, 0, 0, 0, 0, 0, 0, 0, 5, 0, 0, 0, 0, 0, 0, 0]}\n"
          ]
        }
      ]
    },
    {
      "cell_type": "markdown",
      "source": [
        "The token column already has a type of preprocessing as the words are separated. Is important to take this into account, when we apply the tokenizer to the dataset we will have to specify that the senteces are already splitted."
      ],
      "metadata": {
        "id": "jOezZc0WXx1E"
      }
    },
    {
      "cell_type": "markdown",
      "source": [
        "# 4. Preprocessing"
      ],
      "metadata": {
        "id": "8lbY8TY_YwKT"
      }
    },
    {
      "cell_type": "markdown",
      "source": [
        "### Tokenizer"
      ],
      "metadata": {
        "id": "nlSAiO-IdL2S"
      }
    },
    {
      "cell_type": "code",
      "source": [
        "model_id=\"roberta-base\"\n",
        "tokenizer=RobertaTokenizerFast.from_pretrained(model_id,add_prefix_space=True)"
      ],
      "metadata": {
        "colab": {
          "base_uri": "https://localhost:8080/",
          "height": 145,
          "referenced_widgets": [
            "ec54d274adf8408593a6fbcca308160b",
            "3bab022d6b6f4098957219676cc887d2",
            "343c857647ab455cb7a5856bdca6b35b",
            "b938b62b0048416cb43332cd8fb1db61",
            "81c73e157f794401a444f2e10a4253e6",
            "26760cdb39e5434cabc7dd3b2984eb59",
            "86aa95ab3c05443cbb4aa6a43aeab895",
            "f3f07faed0814262863fd5b75b29ccc1",
            "4ad39df40bc243bdb0584c535899dff7",
            "f8912e2f09a64401bed770a34d3a7458",
            "d8b4eb18ac874bf3bcf5e16688bd97dc",
            "7746b55d459341f290eb44014c15c6b4",
            "52846dfc328a44c2949a0273e4b3fee4",
            "0e130a77581f4a4c894ef11b2e3656d7",
            "508b402003714c33a65d94a7c5ba7b05",
            "4b62e41163ed45d9acec40bbf951ee96",
            "202439b5a0da498f93d9bb39e6fcbd82",
            "0b91e7491bb44adc9940a3819f0922ce",
            "b365d3081ba442448e34809bca55878d",
            "d2eaa1cbfe6c42bbad1a97184557f6e3",
            "4097872f7f204629a00e8d3df5b839ea",
            "bd15c7da864f4807bc54f6d40499c348",
            "32003d4d715347f2923ef07f666dcefb",
            "ef929eb6bb7d4437876991197cb284a5",
            "50b262e502b84c2f9071de401e8e0832",
            "a50009033ae74503a551d96d462aff4b",
            "f5dcd97972b746a2a14c8ccd41ea029f",
            "64925dd15dc546c0bebefe40625af36a",
            "60ba2fb5220e4b9ca2a3f61cf244910a",
            "8bac12c3a4474fb1979909fa9bc44245",
            "f1931d410c4f4a2d8c56bec0988ba9ef",
            "60af9caaea384543ab0a7d3ebd0d17e6",
            "35559f06c394439d8df8eebbfacdb0ce",
            "d8b21acbe92943c3bde625f7126b92ca",
            "d4508181b9444607a567a74fb0beb4f7",
            "55cd0b2804784dfe9e7774379b679e54",
            "7727a5d22dd34cbd8e4a2edcfc4e3d3b",
            "13e60a1fa7dc4d2bbbf1cb9f19a48a15",
            "5f07a74401a247f2831982db0987d2aa",
            "bc0bd73f36694b19b4034d96780f2dfe",
            "86229edcce8841fbbdb247c640493e47",
            "8ae56d99d91f47e38d4465cf8574a3ec",
            "e01b104d2afe45a59423e1beb5712d49",
            "c34da7db3cdf49a39c90e6aa89d9a87b"
          ]
        },
        "id": "WxuqV_o2XdYe",
        "outputId": "9bb1f574-cb79-4484-9a2c-df328321705e"
      },
      "execution_count": 22,
      "outputs": [
        {
          "output_type": "display_data",
          "data": {
            "text/plain": [
              "Downloading (…)olve/main/vocab.json:   0%|          | 0.00/899k [00:00<?, ?B/s]"
            ],
            "application/vnd.jupyter.widget-view+json": {
              "version_major": 2,
              "version_minor": 0,
              "model_id": "ec54d274adf8408593a6fbcca308160b"
            }
          },
          "metadata": {}
        },
        {
          "output_type": "display_data",
          "data": {
            "text/plain": [
              "Downloading (…)olve/main/merges.txt:   0%|          | 0.00/456k [00:00<?, ?B/s]"
            ],
            "application/vnd.jupyter.widget-view+json": {
              "version_major": 2,
              "version_minor": 0,
              "model_id": "7746b55d459341f290eb44014c15c6b4"
            }
          },
          "metadata": {}
        },
        {
          "output_type": "display_data",
          "data": {
            "text/plain": [
              "Downloading (…)/main/tokenizer.json:   0%|          | 0.00/1.36M [00:00<?, ?B/s]"
            ],
            "application/vnd.jupyter.widget-view+json": {
              "version_major": 2,
              "version_minor": 0,
              "model_id": "32003d4d715347f2923ef07f666dcefb"
            }
          },
          "metadata": {}
        },
        {
          "output_type": "display_data",
          "data": {
            "text/plain": [
              "Downloading (…)lve/main/config.json:   0%|          | 0.00/481 [00:00<?, ?B/s]"
            ],
            "application/vnd.jupyter.widget-view+json": {
              "version_major": 2,
              "version_minor": 0,
              "model_id": "d8b21acbe92943c3bde625f7126b92ca"
            }
          },
          "metadata": {}
        }
      ]
    },
    {
      "cell_type": "code",
      "source": [
        "inputs = tokenizer(dataset[\"train\"][0][\"tokens\"], is_split_into_words=True,)\n",
        "\n",
        "print(f\"Orginial input: {dataset['train']['tokens'][0]}\\n\")\n",
        "print(f\"Post tokenizer input: {inputs.tokens()}\")"
      ],
      "metadata": {
        "colab": {
          "base_uri": "https://localhost:8080/"
        },
        "id": "AvekWcPtXdap",
        "outputId": "613e49cf-d294-4224-b400-7327be014a03"
      },
      "execution_count": 31,
      "outputs": [
        {
          "output_type": "stream",
          "name": "stdout",
          "text": [
            "Orginial input: ['EU', 'rejects', 'German', 'call', 'to', 'boycott', 'British', 'lamb', '.']\n",
            "\n",
            "Post tokenizer input: ['<s>', 'ĠEU', 'Ġrejects', 'ĠGerman', 'Ġcall', 'Ġto', 'Ġboycott', 'ĠBritish', 'Ġlamb', 'Ġ.', '</s>']\n"
          ]
        }
      ]
    },
    {
      "cell_type": "markdown",
      "source": [
        "### Tokenizer explanation\n",
        "\n",
        "- The **\\<s>** and **\\</s>** tokens are special tokens representing the beginning and end of the sentence, respectively.\n",
        "\n",
        "- The **'Ġ'** character represents a space before each word.\n",
        "\n",
        "- The actual words from the original input follow the **'Ġ'** character.\n",
        "\n",
        "The **\"Ġ\"** character you see at the beginning of some tokens is a special character used by some tokenizers, including the tokenizer used in OpenAI's GPT (Generative Pre-trained Transformer) models. This character represents a space, and it helps the model to differentiate between spaces that occur at the beginning of a word and spaces that occur elsewhere."
      ],
      "metadata": {
        "id": "MUMS1FugagOg"
      }
    },
    {
      "cell_type": "markdown",
      "source": [
        "### Aligment of labels with tokens\n",
        "\n",
        "Once the dataset is preprocessed and tokenized, is important to allign the labels with the tokens. Rembemer that the ner_tags column has the following cofinguration:\n",
        "\n",
        "{'O': 0, 'B-PER': 1, 'I-PER': 2, 'B-ORG': 3, 'I-ORG': 4, 'B-LOC': 5, 'I-LOC': 6, 'B-MISC': 7, 'I-MISC': 8}"
      ],
      "metadata": {
        "id": "de1UyN7QdNuf"
      }
    },
    {
      "cell_type": "code",
      "source": [
        "def align_labels_with_tokens(labels, word_ids):\n",
        "    new_labels = []\n",
        "    current_word = None\n",
        "    for word_id in word_ids:\n",
        "        if word_id != current_word:\n",
        "            # Start of a new word!\n",
        "            current_word = word_id\n",
        "            label = -100 if word_id is None else labels[word_id]\n",
        "            new_labels.append(label)\n",
        "        elif word_id is None:\n",
        "            # Special token\n",
        "            new_labels.append(-100)\n",
        "        else:\n",
        "            # Same word as previous token\n",
        "            label = labels[word_id]\n",
        "            # If the label is B-XXX we change it to I-XXX\n",
        "            if label % 2 == 1:\n",
        "                label += 1\n",
        "            new_labels.append(label)\n",
        "\n",
        "    return new_labels"
      ],
      "metadata": {
        "id": "LgVkfhgqXdc_"
      },
      "execution_count": 32,
      "outputs": []
    },
    {
      "cell_type": "code",
      "source": [
        "def tokenizer_function(dataset):\n",
        "  out=tokenizer(dataset[\"tokens\"],truncation=True,is_split_into_words=True,)\n",
        "  out['labels']=align_labels_with_tokens(dataset[\"ner_tags\"],out.word_ids())\n",
        "  return out\n",
        "\n",
        "tokenized_dataset=dataset.map(tokenizer_function,remove_columns=['id','tokens','pos_tags','chunk_tags','ner_tags',])"
      ],
      "metadata": {
        "colab": {
          "base_uri": "https://localhost:8080/",
          "height": 113,
          "referenced_widgets": [
            "d2bed85ffc884d76a00fb8fc026a6e05",
            "2c41529ac8e94f34a602221b266f508b",
            "92f3f47b57d64200a71a1a9b2368194e",
            "3ace865b499c4647a0e272a72c8b8a64",
            "344932e2edcf4bb0bb5625c3613e716c",
            "9aafbeaf20c645ef99f6d399c68315eb",
            "a7a04993093549d99b04606fc8aa21f3",
            "b0311be2ed0744fdb38eed448580c465",
            "e7bfab38f0e141dcb84766adba2839ed",
            "72e178985ecc4d67846ca73285aa4540",
            "f44220423d744fa8819691d3050d2be5",
            "eefb94ad5b5b4b3c8de6ef57473de6a2",
            "d7a0743701f84c95a20cae9b9d4087d5",
            "c717203e27c7460594b469839b76ca53",
            "6eb4f33f18f3415a8e45c4c45e953162",
            "30947277d4a14b228dd6b2420b159ca0",
            "25710ad0f0e7460aa56aab78586959d7",
            "2a69c9c7aa4a4aec9e61b9186da87c0b",
            "770d2f3d29d04627a92e2fd44111bd9d",
            "4c43d37063f14373ab406147857c39dd",
            "14e3500a78754afc93b984b38599c790",
            "c8eeba4d3d9b40a8b17ae9a309d7f814",
            "b6be5c9b225047db82e76f0ccf91390c",
            "567024023f524061993a0367ab1687b0",
            "868d36189f9140ccbf52480a5e2a4aa5",
            "e24a05ab0d5e424da9f21eaf9270546f",
            "e4a7d0b2d36742518d7c7370bb407f91",
            "893e23d0a25e4248bdcc2977787584c5",
            "fa1976a7a07b47118bd6055137f6c0e4",
            "770b541a7f244643a5893050582a2cb6",
            "0ab85bc0202a42cb9d2576052709ef4e",
            "fd3679f9a4104e4cad063ca972d3d202",
            "97fda091bb884f41b7557d91eddc0ebc"
          ]
        },
        "id": "I7GziCJvXdfM",
        "outputId": "036c697b-8fbb-4bd4-d30e-520696347346"
      },
      "execution_count": 33,
      "outputs": [
        {
          "output_type": "display_data",
          "data": {
            "text/plain": [
              "Map:   0%|          | 0/14041 [00:00<?, ? examples/s]"
            ],
            "application/vnd.jupyter.widget-view+json": {
              "version_major": 2,
              "version_minor": 0,
              "model_id": "d2bed85ffc884d76a00fb8fc026a6e05"
            }
          },
          "metadata": {}
        },
        {
          "output_type": "display_data",
          "data": {
            "text/plain": [
              "Map:   0%|          | 0/3250 [00:00<?, ? examples/s]"
            ],
            "application/vnd.jupyter.widget-view+json": {
              "version_major": 2,
              "version_minor": 0,
              "model_id": "eefb94ad5b5b4b3c8de6ef57473de6a2"
            }
          },
          "metadata": {}
        },
        {
          "output_type": "display_data",
          "data": {
            "text/plain": [
              "Map:   0%|          | 0/3453 [00:00<?, ? examples/s]"
            ],
            "application/vnd.jupyter.widget-view+json": {
              "version_major": 2,
              "version_minor": 0,
              "model_id": "b6be5c9b225047db82e76f0ccf91390c"
            }
          },
          "metadata": {}
        }
      ]
    },
    {
      "cell_type": "code",
      "source": [
        "tokenized_dataset\n",
        "\n",
        "tokenized_dataset[\"train\"][0]"
      ],
      "metadata": {
        "colab": {
          "base_uri": "https://localhost:8080/"
        },
        "id": "--oPaFaxXdhd",
        "outputId": "edb372de-9546-479b-ab66-96f475a9aabc"
      },
      "execution_count": 37,
      "outputs": [
        {
          "output_type": "execute_result",
          "data": {
            "text/plain": [
              "{'input_ids': [0, 1281, 24020, 1859, 486, 7, 13978, 1089, 17988, 479, 2],\n",
              " 'attention_mask': [1, 1, 1, 1, 1, 1, 1, 1, 1, 1, 1],\n",
              " 'labels': [-100, 3, 0, 7, 0, 0, 0, 7, 0, 0, -100]}"
            ]
          },
          "metadata": {},
          "execution_count": 37
        }
      ]
    },
    {
      "cell_type": "markdown",
      "source": [
        "# 5. Preparing the model"
      ],
      "metadata": {
        "id": "2vFql8ZpeWbF"
      }
    },
    {
      "cell_type": "code",
      "source": [
        "data_collator = DataCollatorForTokenClassification(\n",
        "    tokenizer=tokenizer, return_tensors=\"tf\"\n",
        ")"
      ],
      "metadata": {
        "id": "Ef-02rU_XdjW"
      },
      "execution_count": 38,
      "outputs": []
    },
    {
      "cell_type": "code",
      "source": [
        "BATCH_SIZE = 16\n",
        "\n",
        "tf_train_dataset = tokenized_dataset[\"train\"].to_tf_dataset(\n",
        "    collate_fn=data_collator,\n",
        "    shuffle=True,\n",
        "    batch_size=BATCH_SIZE,\n",
        ")"
      ],
      "metadata": {
        "colab": {
          "base_uri": "https://localhost:8080/"
        },
        "id": "fVAPutqbXdlq",
        "outputId": "136a8c1f-37a9-4028-d487-e027caeed0e8"
      },
      "execution_count": 41,
      "outputs": [
        {
          "output_type": "stream",
          "name": "stderr",
          "text": [
            "You're using a RobertaTokenizerFast tokenizer. Please note that with a fast tokenizer, using the `__call__` method is faster than using a method to encode the text followed by a call to the `pad` method to get a padded encoding.\n"
          ]
        }
      ]
    },
    {
      "cell_type": "code",
      "source": [
        "tf_val_dataset = tokenized_dataset[\"validation\"].to_tf_dataset(\n",
        "    collate_fn=data_collator,\n",
        "    shuffle=False,\n",
        "    batch_size=BATCH_SIZE,\n",
        ")"
      ],
      "metadata": {
        "id": "wH4jSrpdXdn1"
      },
      "execution_count": 42,
      "outputs": []
    },
    {
      "cell_type": "markdown",
      "source": [
        "# 6. Model architecture"
      ],
      "metadata": {
        "id": "qf9tOjfGfkYH"
      }
    },
    {
      "cell_type": "markdown",
      "source": [
        "### TFRobertaForSequenceClassification"
      ],
      "metadata": {
        "id": "-LOL0Qo1fpms"
      }
    },
    {
      "cell_type": "code",
      "source": [
        "model=TFRobertaForTokenClassification.from_pretrained(\n",
        "    model_id,\n",
        "    num_labels=9,\n",
        ")\n",
        "\n",
        "model.summary()"
      ],
      "metadata": {
        "colab": {
          "base_uri": "https://localhost:8080/",
          "height": 457,
          "referenced_widgets": [
            "150ae20294db4294b80ebf295c56149d",
            "72f65317604c44828eaf231884ae5d8d",
            "8d10aa27d54741698b2743937b8f477e",
            "ff5cfd48d5d54c5c9c61454f6f1a259b",
            "160f50b25d8447b78ff2c26c3bd56321",
            "83e8599a0b604b479f727a9c817ad242",
            "0567471fea4d4dc294664b5f21c5478b",
            "d8de6f96e26a4360aa0fb269d9d2f4ee",
            "4033e485a48042058fe668eb9e4a166d",
            "95b106ecc4014e998329abe64bda31b7",
            "afc804c480c04bf9937e4fc49cef3143"
          ]
        },
        "id": "DLJou75AfKBg",
        "outputId": "b56e4fcb-7ffc-4668-cb8c-ba6acb36a3e7"
      },
      "execution_count": 43,
      "outputs": [
        {
          "output_type": "display_data",
          "data": {
            "text/plain": [
              "Downloading model.safetensors:   0%|          | 0.00/499M [00:00<?, ?B/s]"
            ],
            "application/vnd.jupyter.widget-view+json": {
              "version_major": 2,
              "version_minor": 0,
              "model_id": "150ae20294db4294b80ebf295c56149d"
            }
          },
          "metadata": {}
        },
        {
          "output_type": "stream",
          "name": "stderr",
          "text": [
            "Some weights of the PyTorch model were not used when initializing the TF 2.0 model TFRobertaForTokenClassification: ['roberta.embeddings.position_ids']\n",
            "- This IS expected if you are initializing TFRobertaForTokenClassification from a PyTorch model trained on another task or with another architecture (e.g. initializing a TFBertForSequenceClassification model from a BertForPreTraining model).\n",
            "- This IS NOT expected if you are initializing TFRobertaForTokenClassification from a PyTorch model that you expect to be exactly identical (e.g. initializing a TFBertForSequenceClassification model from a BertForSequenceClassification model).\n",
            "Some weights or buffers of the TF 2.0 model TFRobertaForTokenClassification were not initialized from the PyTorch model and are newly initialized: ['classifier.weight', 'classifier.bias']\n",
            "You should probably TRAIN this model on a down-stream task to be able to use it for predictions and inference.\n"
          ]
        },
        {
          "output_type": "stream",
          "name": "stdout",
          "text": [
            "Model: \"tf_roberta_for_token_classification\"\n",
            "_________________________________________________________________\n",
            " Layer (type)                Output Shape              Param #   \n",
            "=================================================================\n",
            " roberta (TFRobertaMainLaye  multiple                  124055040 \n",
            " r)                                                              \n",
            "                                                                 \n",
            " dropout_37 (Dropout)        multiple                  0         \n",
            "                                                                 \n",
            " classifier (Dense)          multiple                  6921      \n",
            "                                                                 \n",
            "=================================================================\n",
            "Total params: 124061961 (473.26 MB)\n",
            "Trainable params: 124061961 (473.26 MB)\n",
            "Non-trainable params: 0 (0.00 Byte)\n",
            "_________________________________________________________________\n"
          ]
        }
      ]
    },
    {
      "cell_type": "markdown",
      "source": [
        "# 8. Training"
      ],
      "metadata": {
        "id": "1QnYUx6Mf2SK"
      }
    },
    {
      "cell_type": "code",
      "source": [
        "NUM_EPOCHS = 2\n",
        "batches_per_epoch = len(tokenized_dataset[\"train\"]) // BATCH_SIZE\n",
        "total_train_steps = int(batches_per_epoch*NUM_EPOCHS)"
      ],
      "metadata": {
        "id": "dlkcaGkrfKEK"
      },
      "execution_count": 47,
      "outputs": []
    },
    {
      "cell_type": "code",
      "source": [
        "optimizer, schedule = create_optimizer(init_lr=2e-5,num_warmup_steps=0, num_train_steps=total_train_steps,)"
      ],
      "metadata": {
        "id": "CBleP9QnfKGR"
      },
      "execution_count": 48,
      "outputs": []
    },
    {
      "cell_type": "code",
      "source": [
        "model.compile(optimizer=optimizer,)\n",
        "    #metrics=[\"accuracy\"])"
      ],
      "metadata": {
        "id": "F1sjwGhXfKIR"
      },
      "execution_count": 49,
      "outputs": []
    },
    {
      "cell_type": "code",
      "source": [
        "history=model.fit(\n",
        "    tf_train_dataset,\n",
        "    validation_data=tf_val_dataset,\n",
        "    epochs=NUM_EPOCHS,)\n",
        ""
      ],
      "metadata": {
        "colab": {
          "base_uri": "https://localhost:8080/"
        },
        "id": "aa6V_mmOfKKQ",
        "outputId": "fa9a49bc-78cf-4828-aff0-412189e47845"
      },
      "execution_count": 50,
      "outputs": [
        {
          "output_type": "stream",
          "name": "stdout",
          "text": [
            "Epoch 1/2\n",
            "878/878 [==============================] - 269s 234ms/step - loss: 0.1517 - val_loss: 0.0548\n",
            "Epoch 2/2\n",
            "878/878 [==============================] - 191s 218ms/step - loss: 0.0436 - val_loss: 0.0470\n"
          ]
        }
      ]
    },
    {
      "cell_type": "markdown",
      "source": [
        "# 9. Evaluation\n",
        "\n",
        "The evaluation is a very important part and we have to be very careful on how we are evaluation our model. In this case we can see that I am not using the accuracy metric to classify the model. This metric is not suitable for this task and won´t produce reliable results.\n",
        "\n"
      ],
      "metadata": {
        "id": "fWNS6FpmgUM4"
      }
    },
    {
      "cell_type": "code",
      "source": [
        "plt.plot(history.history['loss'])\n",
        "plt.plot(history.history['val_loss'])\n",
        "plt.title('model_loss')\n",
        "plt.ylabel('loss')\n",
        "plt.xlabel('epoch')\n",
        "plt.legend(['train', 'val'], loc='upper left')\n",
        "plt.show()"
      ],
      "metadata": {
        "colab": {
          "base_uri": "https://localhost:8080/",
          "height": 472
        },
        "id": "mKxjBjbzgd-x",
        "outputId": "27975036-d6b9-4ed0-eb48-0bcba6cfe876"
      },
      "execution_count": 51,
      "outputs": [
        {
          "output_type": "display_data",
          "data": {
            "text/plain": [
              "<Figure size 640x480 with 1 Axes>"
            ],
            "image/png": "[encoded data removed]"
          },
          "metadata": {}
        }
      ]
    },
    {
      "cell_type": "code",
      "source": [
        "metric=evaluate.load(\"seqeval\")"
      ],
      "metadata": {
        "colab": {
          "base_uri": "https://localhost:8080/",
          "height": 49,
          "referenced_widgets": [
            "1cdb513528dd41b09eb70da14618e488",
            "2683f9769eda42bdbcc9e0759a45be57",
            "2f1d35a931314d6a911d9d7e84057dea",
            "7af0d6de01dd4061bd532f7f944a1b54",
            "b982edecd50348ba81b700234403064d",
            "8bda7daebcd34c9cb8d4249bddbb693b",
            "7ee8e824d5954b3b83248db6cc395b05",
            "6a3ddf6607494c10bc1eba754fd8baf4",
            "73368e3c5d304020888737f03646fbfe",
            "0d009c4886ab46cabd3d9e5672c4c86f",
            "09e887d5931b4d56af6673840f747aef"
          ]
        },
        "id": "dNS81jUPhhiQ",
        "outputId": "46bcbf58-d485-498f-fe31-d86416df19fb"
      },
      "execution_count": 52,
      "outputs": [
        {
          "output_type": "display_data",
          "data": {
            "text/plain": [
              "Downloading builder script:   0%|          | 0.00/6.34k [00:00<?, ?B/s]"
            ],
            "application/vnd.jupyter.widget-view+json": {
              "version_major": 2,
              "version_minor": 0,
              "model_id": "1cdb513528dd41b09eb70da14618e488"
            }
          },
          "metadata": {}
        }
      ]
    },
    {
      "cell_type": "code",
      "source": [
        "ind_to_label={0:'O', 1:'B-PER',2:'I-PER',3:'B-ORG',4:'I-ORG',5:'B-LOC',6:'I-LOC',7:'B-MISC',8:'I-MISC'}\n",
        "all_predictions = []\n",
        "all_labels = []"
      ],
      "metadata": {
        "id": "-s2BQuEBfKMN"
      },
      "execution_count": 53,
      "outputs": []
    },
    {
      "cell_type": "code",
      "source": [
        "for batch in tf_val_dataset:\n",
        "  logits = model.predict(batch)[\"logits\"]\n",
        "  labels = batch[\"labels\"].numpy()\n",
        "  predictions = tf.argmax(logits, axis=-1).numpy()\n",
        "  #print(labels)\n",
        "  #print(predictions)\n",
        "  for prediction, label in zip(predictions, labels):\n",
        "    for predicted_idx, label_idx in zip(prediction, label):\n",
        "      if label_idx == -100:\n",
        "          continue\n",
        "      all_predictions.append(ind_to_label[predicted_idx])\n",
        "      all_labels.append(ind_to_label[label_idx])"
      ],
      "metadata": {
        "id": "MCnAudWKfKOS"
      },
      "execution_count": null,
      "outputs": []
    },
    {
      "cell_type": "code",
      "source": [
        "metric.compute(predictions=[all_predictions], references=[all_labels])\n"
      ],
      "metadata": {
        "colab": {
          "base_uri": "https://localhost:8080/"
        },
        "id": "BjJ9C0lvjfHs",
        "outputId": "118be3d7-958a-4cb9-e4f0-df5898ee8059"
      },
      "execution_count": 55,
      "outputs": [
        {
          "output_type": "execute_result",
          "data": {
            "text/plain": [
              "{'LOC': {'precision': 0.9582887700534759,\n",
              "  'recall': 0.9755035383777899,\n",
              "  'f1': 0.9668195306177502,\n",
              "  'number': 1837},\n",
              " 'MISC': {'precision': 0.8393039918116684,\n",
              "  'recall': 0.8893709327548807,\n",
              "  'f1': 0.8636124275934703,\n",
              "  'number': 922},\n",
              " 'ORG': {'precision': 0.9172821270310192,\n",
              "  'recall': 0.9261744966442953,\n",
              "  'f1': 0.9217068645640074,\n",
              "  'number': 1341},\n",
              " 'PER': {'precision': 0.9736133548734518,\n",
              "  'recall': 0.9815418023887079,\n",
              "  'f1': 0.9775615031089484,\n",
              "  'number': 1842},\n",
              " 'overall_precision': 0.9346318917134367,\n",
              " 'overall_recall': 0.9528778189161898,\n",
              " 'overall_f1': 0.9436666666666667,\n",
              " 'overall_accuracy': 0.9875118897855236}"
            ]
          },
          "metadata": {},
          "execution_count": 55
        }
      ]
    },
    {
      "cell_type": "markdown",
      "source": [
        "# 10. Testing"
      ],
      "metadata": {
        "id": "jR8CcQMrkEXL"
      }
    },
    {
      "cell_type": "code",
      "source": [
        "inputs=tokenizer([\"Wake Up JoeMarshal, you just got a call from UNESCO for a trip to India\"], padding=True,return_tensors=\"tf\")\n"
      ],
      "metadata": {
        "id": "aASJa8LMjfJ9"
      },
      "execution_count": null,
      "outputs": []
    },
    {
      "cell_type": "code",
      "source": [
        "print(inputs.tokens())\n",
        "print(inputs.word_ids())\n",
        "print(inputs['input_ids'])"
      ],
      "metadata": {
        "id": "qHN74RQCjfMW"
      },
      "execution_count": null,
      "outputs": []
    },
    {
      "cell_type": "markdown",
      "source": [
        "# 11. Saving the model"
      ],
      "metadata": {
        "id": "plGXBoWWkRF4"
      }
    },
    {
      "cell_type": "code",
      "source": [
        "model.save('/content/drive/MyDrive/nlp/Named Entity Relation')"
      ],
      "metadata": {
        "id": "YrsOvugWkUGn"
      },
      "execution_count": 56,
      "outputs": []
    }
  ]
}
